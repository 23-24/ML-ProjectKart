{
  "nbformat": 4,
  "nbformat_minor": 0,
  "metadata": {
    "colab": {
      "name": "Stress_level_prediction.ipynb",
      "provenance": [],
      "collapsed_sections": []
    },
    "kernelspec": {
      "name": "python3",
      "display_name": "Python 3"
    },
    "language_info": {
      "name": "python"
    }
  },
  "cells": [
    {
      "cell_type": "markdown",
      "metadata": {
        "id": "DyS4wbfW707S"
      },
      "source": [
        "# **Stress Level Prediction**"
      ]
    },
    {
      "cell_type": "markdown",
      "metadata": {
        "id": "Wg-hgwasKroa"
      },
      "source": [
        "For Stress Level Prediction we will use 2 algorithms:\n",
        "\n",
        "1.Decision Tree Regressor\n",
        "\n",
        "2.Random Forest Regressor\n",
        "\n",
        "By using the above algorithms, we will firstly explore the data that we have and check for any null or missing values. If found then we'll clean tha data and then visualize it for better understanding.Then we'll proceed by data training i.e. spliting data into training and testing data.Then train our model by providing training data and once the model will be trained, we will perform prediction. After prediction, we will evaluate the performance of these algorithmns by error check and accuracy check."
      ]
    },
    {
      "cell_type": "markdown",
      "metadata": {
        "id": "VepE87-sLZ1t"
      },
      "source": [
        "Steps followed are as:\n",
        "\n",
        "Step 1:Data Exploration\n",
        "\n",
        "Step 2: Data Cleaning\n",
        "\n",
        "Step 3: Data Visualization\n",
        "\n",
        "Step 4:Data training\n",
        "\n",
        "Step 5: Model Creation\n",
        "\n",
        "Step 6: Performance Evaluation"
      ]
    },
    {
      "cell_type": "markdown",
      "metadata": {
        "id": "eLs_fm-N78MT"
      },
      "source": [
        "For the dataset being used [Click here](https://www.kaggle.com/shivamb/ideal-student-life-survey?select=survey_responses.csv)"
      ]
    },
    {
      "cell_type": "markdown",
      "metadata": {
        "id": "yNltly2Y80l4"
      },
      "source": [
        "## Data Exploration"
      ]
    },
    {
      "cell_type": "code",
      "metadata": {
        "id": "7tmExTiS25aD"
      },
      "source": [
        "import pandas as pd"
      ],
      "execution_count": 238,
      "outputs": []
    },
    {
      "cell_type": "code",
      "metadata": {
        "colab": {
          "base_uri": "https://localhost:8080/",
          "height": 853
        },
        "id": "6bGW5S4T87q2",
        "outputId": "a5b8d9b7-25e7-4223-f814-8d9420e0e3c0"
      },
      "source": [
        "data=pd.read_csv('/content/survey_responses.csv')\n",
        "data"
      ],
      "execution_count": 239,
      "outputs": [
        {
          "output_type": "execute_result",
          "data": {
            "text/html": [
              "<div>\n",
              "<style scoped>\n",
              "    .dataframe tbody tr th:only-of-type {\n",
              "        vertical-align: middle;\n",
              "    }\n",
              "\n",
              "    .dataframe tbody tr th {\n",
              "        vertical-align: top;\n",
              "    }\n",
              "\n",
              "    .dataframe thead th {\n",
              "        text-align: right;\n",
              "    }\n",
              "</style>\n",
              "<table border=\"1\" class=\"dataframe\">\n",
              "  <thead>\n",
              "    <tr style=\"text-align: right;\">\n",
              "      <th></th>\n",
              "      <th>Career</th>\n",
              "      <th>Citizenship</th>\n",
              "      <th>Nationality</th>\n",
              "      <th>Year since Matriculation</th>\n",
              "      <th>Year of Study</th>\n",
              "      <th>Primary Programme</th>\n",
              "      <th>Gender</th>\n",
              "      <th>Department</th>\n",
              "      <th>Housing Type</th>\n",
              "      <th>Q1-How many events have you Volunteered in ?</th>\n",
              "      <th>Q2-How many events have you Participated in ?</th>\n",
              "      <th>Q3-How many activities are you Interested in ?</th>\n",
              "      <th>Q4-How many activities are you Passionate about ?</th>\n",
              "      <th>Q5-What are your levels of stress ?</th>\n",
              "      <th>Q6-How Satisfied You are with your Student Life ?</th>\n",
              "      <th>Q7-How much effort do you make to interact with others ?</th>\n",
              "      <th>Q8-About How events are you aware about ?</th>\n",
              "      <th>response_id</th>\n",
              "      <th>Q9-What is an ideal student life ?</th>\n",
              "    </tr>\n",
              "  </thead>\n",
              "  <tbody>\n",
              "    <tr>\n",
              "      <th>0</th>\n",
              "      <td>UGRD</td>\n",
              "      <td>Foreigner</td>\n",
              "      <td>Indonesia</td>\n",
              "      <td>2</td>\n",
              "      <td>2</td>\n",
              "      <td>Bachelor of Science</td>\n",
              "      <td>F</td>\n",
              "      <td>School of Science</td>\n",
              "      <td>Residences</td>\n",
              "      <td>0</td>\n",
              "      <td>1</td>\n",
              "      <td>3</td>\n",
              "      <td>1</td>\n",
              "      <td>1</td>\n",
              "      <td>2</td>\n",
              "      <td>2.0</td>\n",
              "      <td>2.0</td>\n",
              "      <td>1</td>\n",
              "      <td>NaN</td>\n",
              "    </tr>\n",
              "    <tr>\n",
              "      <th>1</th>\n",
              "      <td>UGRD</td>\n",
              "      <td>Country Citizen</td>\n",
              "      <td>Singapore</td>\n",
              "      <td>1</td>\n",
              "      <td>1</td>\n",
              "      <td>Bachelor of Engineering</td>\n",
              "      <td>F</td>\n",
              "      <td>School of Engineering</td>\n",
              "      <td>Out of Campus</td>\n",
              "      <td>0</td>\n",
              "      <td>1</td>\n",
              "      <td>2</td>\n",
              "      <td>3</td>\n",
              "      <td>1</td>\n",
              "      <td>2</td>\n",
              "      <td>2.0</td>\n",
              "      <td>3.0</td>\n",
              "      <td>2</td>\n",
              "      <td>Friends+CCas+good result</td>\n",
              "    </tr>\n",
              "    <tr>\n",
              "      <th>2</th>\n",
              "      <td>UGRD</td>\n",
              "      <td>Foreigner</td>\n",
              "      <td>Malaysia</td>\n",
              "      <td>2</td>\n",
              "      <td>2</td>\n",
              "      <td>Bachelor of Science</td>\n",
              "      <td>M</td>\n",
              "      <td>School of Science</td>\n",
              "      <td>Halls</td>\n",
              "      <td>3</td>\n",
              "      <td>1</td>\n",
              "      <td>1</td>\n",
              "      <td>5</td>\n",
              "      <td>2</td>\n",
              "      <td>2</td>\n",
              "      <td>2.0</td>\n",
              "      <td>2.0</td>\n",
              "      <td>3</td>\n",
              "      <td>just want everything to go smooth. serious</td>\n",
              "    </tr>\n",
              "    <tr>\n",
              "      <th>3</th>\n",
              "      <td>UGRD</td>\n",
              "      <td>Foreigner</td>\n",
              "      <td>Malaysia</td>\n",
              "      <td>2</td>\n",
              "      <td>2</td>\n",
              "      <td>Bachelor of Engineering</td>\n",
              "      <td>M</td>\n",
              "      <td>School of Engineering</td>\n",
              "      <td>Halls</td>\n",
              "      <td>3</td>\n",
              "      <td>4</td>\n",
              "      <td>3</td>\n",
              "      <td>3</td>\n",
              "      <td>7</td>\n",
              "      <td>1</td>\n",
              "      <td>1.0</td>\n",
              "      <td>1.0</td>\n",
              "      <td>4</td>\n",
              "      <td>NaN</td>\n",
              "    </tr>\n",
              "    <tr>\n",
              "      <th>4</th>\n",
              "      <td>UGRD</td>\n",
              "      <td>Foreigner</td>\n",
              "      <td>Viet Nam</td>\n",
              "      <td>3</td>\n",
              "      <td>3</td>\n",
              "      <td>Bachelor of Engineering</td>\n",
              "      <td>F</td>\n",
              "      <td>School of Engineering</td>\n",
              "      <td>Out of Campus</td>\n",
              "      <td>4</td>\n",
              "      <td>3</td>\n",
              "      <td>4</td>\n",
              "      <td>5</td>\n",
              "      <td>4</td>\n",
              "      <td>2</td>\n",
              "      <td>2.0</td>\n",
              "      <td>2.0</td>\n",
              "      <td>5</td>\n",
              "      <td>a mixture of both academic and non-academic</td>\n",
              "    </tr>\n",
              "    <tr>\n",
              "      <th>...</th>\n",
              "      <td>...</td>\n",
              "      <td>...</td>\n",
              "      <td>...</td>\n",
              "      <td>...</td>\n",
              "      <td>...</td>\n",
              "      <td>...</td>\n",
              "      <td>...</td>\n",
              "      <td>...</td>\n",
              "      <td>...</td>\n",
              "      <td>...</td>\n",
              "      <td>...</td>\n",
              "      <td>...</td>\n",
              "      <td>...</td>\n",
              "      <td>...</td>\n",
              "      <td>...</td>\n",
              "      <td>...</td>\n",
              "      <td>...</td>\n",
              "      <td>...</td>\n",
              "      <td>...</td>\n",
              "    </tr>\n",
              "    <tr>\n",
              "      <th>2953</th>\n",
              "      <td>UGRD</td>\n",
              "      <td>Country Citizen</td>\n",
              "      <td>Singapore</td>\n",
              "      <td>1</td>\n",
              "      <td>1</td>\n",
              "      <td>Bachelor of Science</td>\n",
              "      <td>F</td>\n",
              "      <td>School of Science</td>\n",
              "      <td>Out of Campus</td>\n",
              "      <td>0</td>\n",
              "      <td>1</td>\n",
              "      <td>5</td>\n",
              "      <td>8</td>\n",
              "      <td>3</td>\n",
              "      <td>2</td>\n",
              "      <td>NaN</td>\n",
              "      <td>NaN</td>\n",
              "      <td>2954</td>\n",
              "      <td>The ideal student life is about able to balanc...</td>\n",
              "    </tr>\n",
              "    <tr>\n",
              "      <th>2954</th>\n",
              "      <td>UGRD</td>\n",
              "      <td>Country Citizen</td>\n",
              "      <td>Singapore</td>\n",
              "      <td>2</td>\n",
              "      <td>2</td>\n",
              "      <td>Bach. of Med.,Bach. of Surg.</td>\n",
              "      <td>M</td>\n",
              "      <td>School of Medicine1</td>\n",
              "      <td>Out of Campus</td>\n",
              "      <td>1</td>\n",
              "      <td>1</td>\n",
              "      <td>5</td>\n",
              "      <td>2</td>\n",
              "      <td>1</td>\n",
              "      <td>2</td>\n",
              "      <td>NaN</td>\n",
              "      <td>NaN</td>\n",
              "      <td>2955</td>\n",
              "      <td>Work-life balance with time for leisure activi...</td>\n",
              "    </tr>\n",
              "    <tr>\n",
              "      <th>2955</th>\n",
              "      <td>GRAD</td>\n",
              "      <td>Foreigner</td>\n",
              "      <td>China</td>\n",
              "      <td>1</td>\n",
              "      <td>1</td>\n",
              "      <td>Master of Science (Track 1)</td>\n",
              "      <td>F</td>\n",
              "      <td>School of Science</td>\n",
              "      <td>Out of Campus</td>\n",
              "      <td>0</td>\n",
              "      <td>1</td>\n",
              "      <td>1</td>\n",
              "      <td>2</td>\n",
              "      <td>1</td>\n",
              "      <td>3</td>\n",
              "      <td>NaN</td>\n",
              "      <td>NaN</td>\n",
              "      <td>2956</td>\n",
              "      <td>NaN</td>\n",
              "    </tr>\n",
              "    <tr>\n",
              "      <th>2956</th>\n",
              "      <td>GRAD</td>\n",
              "      <td>Foreigner</td>\n",
              "      <td>China</td>\n",
              "      <td>4</td>\n",
              "      <td>4</td>\n",
              "      <td>Doctor of Philosophy (FoE)</td>\n",
              "      <td>M</td>\n",
              "      <td>School of Engineering</td>\n",
              "      <td>Out of Campus</td>\n",
              "      <td>3</td>\n",
              "      <td>2</td>\n",
              "      <td>6</td>\n",
              "      <td>2</td>\n",
              "      <td>3</td>\n",
              "      <td>3</td>\n",
              "      <td>NaN</td>\n",
              "      <td>NaN</td>\n",
              "      <td>2957</td>\n",
              "      <td>NaN</td>\n",
              "    </tr>\n",
              "    <tr>\n",
              "      <th>2957</th>\n",
              "      <td>UGRD</td>\n",
              "      <td>Permanent Resident</td>\n",
              "      <td>China</td>\n",
              "      <td>1</td>\n",
              "      <td>1</td>\n",
              "      <td>Bachelor of Science</td>\n",
              "      <td>F</td>\n",
              "      <td>School of Science</td>\n",
              "      <td>Halls</td>\n",
              "      <td>2</td>\n",
              "      <td>2</td>\n",
              "      <td>4</td>\n",
              "      <td>2</td>\n",
              "      <td>3</td>\n",
              "      <td>2</td>\n",
              "      <td>NaN</td>\n",
              "      <td>NaN</td>\n",
              "      <td>2958</td>\n",
              "      <td>My ideal student life is having study-life bal...</td>\n",
              "    </tr>\n",
              "  </tbody>\n",
              "</table>\n",
              "<p>2958 rows × 19 columns</p>\n",
              "</div>"
            ],
            "text/plain": [
              "     Career  ...                 Q9-What is an ideal student life ?\n",
              "0      UGRD  ...                                                NaN\n",
              "1      UGRD  ...                           Friends+CCas+good result\n",
              "2      UGRD  ...         just want everything to go smooth. serious\n",
              "3      UGRD  ...                                                NaN\n",
              "4      UGRD  ...        a mixture of both academic and non-academic\n",
              "...     ...  ...                                                ...\n",
              "2953   UGRD  ...  The ideal student life is about able to balanc...\n",
              "2954   UGRD  ...  Work-life balance with time for leisure activi...\n",
              "2955   GRAD  ...                                                NaN\n",
              "2956   GRAD  ...                                                NaN\n",
              "2957   UGRD  ...  My ideal student life is having study-life bal...\n",
              "\n",
              "[2958 rows x 19 columns]"
            ]
          },
          "metadata": {
            "tags": []
          },
          "execution_count": 239
        }
      ]
    },
    {
      "cell_type": "code",
      "metadata": {
        "colab": {
          "base_uri": "https://localhost:8080/"
        },
        "id": "UGhq_hFF9Rrx",
        "outputId": "45c55fb5-81a9-47eb-fd49-a669a03d3f6f"
      },
      "source": [
        "data.shape"
      ],
      "execution_count": 240,
      "outputs": [
        {
          "output_type": "execute_result",
          "data": {
            "text/plain": [
              "(2958, 19)"
            ]
          },
          "metadata": {
            "tags": []
          },
          "execution_count": 240
        }
      ]
    },
    {
      "cell_type": "code",
      "metadata": {
        "colab": {
          "base_uri": "https://localhost:8080/"
        },
        "id": "AScoM8i49A2E",
        "outputId": "204df86d-e397-4542-fafb-3e5323c42135"
      },
      "source": [
        "data.info()"
      ],
      "execution_count": 241,
      "outputs": [
        {
          "output_type": "stream",
          "text": [
            "<class 'pandas.core.frame.DataFrame'>\n",
            "RangeIndex: 2958 entries, 0 to 2957\n",
            "Data columns (total 19 columns):\n",
            " #   Column                                                    Non-Null Count  Dtype  \n",
            "---  ------                                                    --------------  -----  \n",
            " 0   Career                                                    2958 non-null   object \n",
            " 1   Citizenship                                               2958 non-null   object \n",
            " 2   Nationality                                               2958 non-null   object \n",
            " 3   Year since Matriculation                                  2958 non-null   int64  \n",
            " 4   Year of Study                                             2958 non-null   int64  \n",
            " 5   Primary Programme                                         2958 non-null   object \n",
            " 6   Gender                                                    2958 non-null   object \n",
            " 7   Department                                                2958 non-null   object \n",
            " 8   Housing Type                                              2958 non-null   object \n",
            " 9   Q1-How many events have you Volunteered in ?              2958 non-null   int64  \n",
            " 10  Q2-How many events have you Participated in ?             2958 non-null   int64  \n",
            " 11  Q3-How many activities are you Interested in ?            2958 non-null   int64  \n",
            " 12  Q4-How many activities are you Passionate about ?         2958 non-null   int64  \n",
            " 13  Q5-What are your levels of stress ?                       2958 non-null   int64  \n",
            " 14  Q6-How Satisfied You are with your Student Life ?         2958 non-null   int64  \n",
            " 15  Q7-How much effort do you make to interact with others ?  2940 non-null   float64\n",
            " 16  Q8-About How events are you aware about ?                 2940 non-null   float64\n",
            " 17  response_id                                               2958 non-null   int64  \n",
            " 18  Q9-What is an ideal student life ?                        2371 non-null   object \n",
            "dtypes: float64(2), int64(9), object(8)\n",
            "memory usage: 439.2+ KB\n"
          ],
          "name": "stdout"
        }
      ]
    },
    {
      "cell_type": "code",
      "metadata": {
        "colab": {
          "base_uri": "https://localhost:8080/"
        },
        "id": "GraKhJEs9Qyq",
        "outputId": "206b5573-6619-4de8-ecb3-6e87555d099b"
      },
      "source": [
        "data.columns"
      ],
      "execution_count": 242,
      "outputs": [
        {
          "output_type": "execute_result",
          "data": {
            "text/plain": [
              "Index(['Career', 'Citizenship', 'Nationality', 'Year since Matriculation',\n",
              "       'Year of Study', 'Primary Programme', 'Gender', 'Department',\n",
              "       'Housing Type', 'Q1-How many events have you Volunteered in ?',\n",
              "       'Q2-How many events have you Participated in ?',\n",
              "       'Q3-How many activities are you Interested in ?',\n",
              "       'Q4-How many activities are you Passionate about ?',\n",
              "       'Q5-What are your levels of stress ?',\n",
              "       'Q6-How Satisfied You are with your Student Life ?',\n",
              "       'Q7-How much effort do you make to interact with others ?',\n",
              "       'Q8-About How events are you aware about ?', 'response_id',\n",
              "       'Q9-What is an ideal student life ?'],\n",
              "      dtype='object')"
            ]
          },
          "metadata": {
            "tags": []
          },
          "execution_count": 242
        }
      ]
    },
    {
      "cell_type": "code",
      "metadata": {
        "colab": {
          "base_uri": "https://localhost:8080/",
          "height": 707
        },
        "id": "5FN53CPSjZeW",
        "outputId": "645d1ce8-4b7c-4783-dba9-0391b66cab8b"
      },
      "source": [
        "data.tail()"
      ],
      "execution_count": 243,
      "outputs": [
        {
          "output_type": "execute_result",
          "data": {
            "text/html": [
              "<div>\n",
              "<style scoped>\n",
              "    .dataframe tbody tr th:only-of-type {\n",
              "        vertical-align: middle;\n",
              "    }\n",
              "\n",
              "    .dataframe tbody tr th {\n",
              "        vertical-align: top;\n",
              "    }\n",
              "\n",
              "    .dataframe thead th {\n",
              "        text-align: right;\n",
              "    }\n",
              "</style>\n",
              "<table border=\"1\" class=\"dataframe\">\n",
              "  <thead>\n",
              "    <tr style=\"text-align: right;\">\n",
              "      <th></th>\n",
              "      <th>Career</th>\n",
              "      <th>Citizenship</th>\n",
              "      <th>Nationality</th>\n",
              "      <th>Year since Matriculation</th>\n",
              "      <th>Year of Study</th>\n",
              "      <th>Primary Programme</th>\n",
              "      <th>Gender</th>\n",
              "      <th>Department</th>\n",
              "      <th>Housing Type</th>\n",
              "      <th>Q1-How many events have you Volunteered in ?</th>\n",
              "      <th>Q2-How many events have you Participated in ?</th>\n",
              "      <th>Q3-How many activities are you Interested in ?</th>\n",
              "      <th>Q4-How many activities are you Passionate about ?</th>\n",
              "      <th>Q5-What are your levels of stress ?</th>\n",
              "      <th>Q6-How Satisfied You are with your Student Life ?</th>\n",
              "      <th>Q7-How much effort do you make to interact with others ?</th>\n",
              "      <th>Q8-About How events are you aware about ?</th>\n",
              "      <th>response_id</th>\n",
              "      <th>Q9-What is an ideal student life ?</th>\n",
              "    </tr>\n",
              "  </thead>\n",
              "  <tbody>\n",
              "    <tr>\n",
              "      <th>2953</th>\n",
              "      <td>UGRD</td>\n",
              "      <td>Country Citizen</td>\n",
              "      <td>Singapore</td>\n",
              "      <td>1</td>\n",
              "      <td>1</td>\n",
              "      <td>Bachelor of Science</td>\n",
              "      <td>F</td>\n",
              "      <td>School of Science</td>\n",
              "      <td>Out of Campus</td>\n",
              "      <td>0</td>\n",
              "      <td>1</td>\n",
              "      <td>5</td>\n",
              "      <td>8</td>\n",
              "      <td>3</td>\n",
              "      <td>2</td>\n",
              "      <td>NaN</td>\n",
              "      <td>NaN</td>\n",
              "      <td>2954</td>\n",
              "      <td>The ideal student life is about able to balanc...</td>\n",
              "    </tr>\n",
              "    <tr>\n",
              "      <th>2954</th>\n",
              "      <td>UGRD</td>\n",
              "      <td>Country Citizen</td>\n",
              "      <td>Singapore</td>\n",
              "      <td>2</td>\n",
              "      <td>2</td>\n",
              "      <td>Bach. of Med.,Bach. of Surg.</td>\n",
              "      <td>M</td>\n",
              "      <td>School of Medicine1</td>\n",
              "      <td>Out of Campus</td>\n",
              "      <td>1</td>\n",
              "      <td>1</td>\n",
              "      <td>5</td>\n",
              "      <td>2</td>\n",
              "      <td>1</td>\n",
              "      <td>2</td>\n",
              "      <td>NaN</td>\n",
              "      <td>NaN</td>\n",
              "      <td>2955</td>\n",
              "      <td>Work-life balance with time for leisure activi...</td>\n",
              "    </tr>\n",
              "    <tr>\n",
              "      <th>2955</th>\n",
              "      <td>GRAD</td>\n",
              "      <td>Foreigner</td>\n",
              "      <td>China</td>\n",
              "      <td>1</td>\n",
              "      <td>1</td>\n",
              "      <td>Master of Science (Track 1)</td>\n",
              "      <td>F</td>\n",
              "      <td>School of Science</td>\n",
              "      <td>Out of Campus</td>\n",
              "      <td>0</td>\n",
              "      <td>1</td>\n",
              "      <td>1</td>\n",
              "      <td>2</td>\n",
              "      <td>1</td>\n",
              "      <td>3</td>\n",
              "      <td>NaN</td>\n",
              "      <td>NaN</td>\n",
              "      <td>2956</td>\n",
              "      <td>NaN</td>\n",
              "    </tr>\n",
              "    <tr>\n",
              "      <th>2956</th>\n",
              "      <td>GRAD</td>\n",
              "      <td>Foreigner</td>\n",
              "      <td>China</td>\n",
              "      <td>4</td>\n",
              "      <td>4</td>\n",
              "      <td>Doctor of Philosophy (FoE)</td>\n",
              "      <td>M</td>\n",
              "      <td>School of Engineering</td>\n",
              "      <td>Out of Campus</td>\n",
              "      <td>3</td>\n",
              "      <td>2</td>\n",
              "      <td>6</td>\n",
              "      <td>2</td>\n",
              "      <td>3</td>\n",
              "      <td>3</td>\n",
              "      <td>NaN</td>\n",
              "      <td>NaN</td>\n",
              "      <td>2957</td>\n",
              "      <td>NaN</td>\n",
              "    </tr>\n",
              "    <tr>\n",
              "      <th>2957</th>\n",
              "      <td>UGRD</td>\n",
              "      <td>Permanent Resident</td>\n",
              "      <td>China</td>\n",
              "      <td>1</td>\n",
              "      <td>1</td>\n",
              "      <td>Bachelor of Science</td>\n",
              "      <td>F</td>\n",
              "      <td>School of Science</td>\n",
              "      <td>Halls</td>\n",
              "      <td>2</td>\n",
              "      <td>2</td>\n",
              "      <td>4</td>\n",
              "      <td>2</td>\n",
              "      <td>3</td>\n",
              "      <td>2</td>\n",
              "      <td>NaN</td>\n",
              "      <td>NaN</td>\n",
              "      <td>2958</td>\n",
              "      <td>My ideal student life is having study-life bal...</td>\n",
              "    </tr>\n",
              "  </tbody>\n",
              "</table>\n",
              "</div>"
            ],
            "text/plain": [
              "     Career  ...                 Q9-What is an ideal student life ?\n",
              "2953   UGRD  ...  The ideal student life is about able to balanc...\n",
              "2954   UGRD  ...  Work-life balance with time for leisure activi...\n",
              "2955   GRAD  ...                                                NaN\n",
              "2956   GRAD  ...                                                NaN\n",
              "2957   UGRD  ...  My ideal student life is having study-life bal...\n",
              "\n",
              "[5 rows x 19 columns]"
            ]
          },
          "metadata": {
            "tags": []
          },
          "execution_count": 243
        }
      ]
    },
    {
      "cell_type": "code",
      "metadata": {
        "colab": {
          "base_uri": "https://localhost:8080/",
          "height": 707
        },
        "id": "YBWCrtxVjl0n",
        "outputId": "bafee284-4497-47b9-ed54-cc6cb2560b3b"
      },
      "source": [
        "data.tail()"
      ],
      "execution_count": 244,
      "outputs": [
        {
          "output_type": "execute_result",
          "data": {
            "text/html": [
              "<div>\n",
              "<style scoped>\n",
              "    .dataframe tbody tr th:only-of-type {\n",
              "        vertical-align: middle;\n",
              "    }\n",
              "\n",
              "    .dataframe tbody tr th {\n",
              "        vertical-align: top;\n",
              "    }\n",
              "\n",
              "    .dataframe thead th {\n",
              "        text-align: right;\n",
              "    }\n",
              "</style>\n",
              "<table border=\"1\" class=\"dataframe\">\n",
              "  <thead>\n",
              "    <tr style=\"text-align: right;\">\n",
              "      <th></th>\n",
              "      <th>Career</th>\n",
              "      <th>Citizenship</th>\n",
              "      <th>Nationality</th>\n",
              "      <th>Year since Matriculation</th>\n",
              "      <th>Year of Study</th>\n",
              "      <th>Primary Programme</th>\n",
              "      <th>Gender</th>\n",
              "      <th>Department</th>\n",
              "      <th>Housing Type</th>\n",
              "      <th>Q1-How many events have you Volunteered in ?</th>\n",
              "      <th>Q2-How many events have you Participated in ?</th>\n",
              "      <th>Q3-How many activities are you Interested in ?</th>\n",
              "      <th>Q4-How many activities are you Passionate about ?</th>\n",
              "      <th>Q5-What are your levels of stress ?</th>\n",
              "      <th>Q6-How Satisfied You are with your Student Life ?</th>\n",
              "      <th>Q7-How much effort do you make to interact with others ?</th>\n",
              "      <th>Q8-About How events are you aware about ?</th>\n",
              "      <th>response_id</th>\n",
              "      <th>Q9-What is an ideal student life ?</th>\n",
              "    </tr>\n",
              "  </thead>\n",
              "  <tbody>\n",
              "    <tr>\n",
              "      <th>2953</th>\n",
              "      <td>UGRD</td>\n",
              "      <td>Country Citizen</td>\n",
              "      <td>Singapore</td>\n",
              "      <td>1</td>\n",
              "      <td>1</td>\n",
              "      <td>Bachelor of Science</td>\n",
              "      <td>F</td>\n",
              "      <td>School of Science</td>\n",
              "      <td>Out of Campus</td>\n",
              "      <td>0</td>\n",
              "      <td>1</td>\n",
              "      <td>5</td>\n",
              "      <td>8</td>\n",
              "      <td>3</td>\n",
              "      <td>2</td>\n",
              "      <td>NaN</td>\n",
              "      <td>NaN</td>\n",
              "      <td>2954</td>\n",
              "      <td>The ideal student life is about able to balanc...</td>\n",
              "    </tr>\n",
              "    <tr>\n",
              "      <th>2954</th>\n",
              "      <td>UGRD</td>\n",
              "      <td>Country Citizen</td>\n",
              "      <td>Singapore</td>\n",
              "      <td>2</td>\n",
              "      <td>2</td>\n",
              "      <td>Bach. of Med.,Bach. of Surg.</td>\n",
              "      <td>M</td>\n",
              "      <td>School of Medicine1</td>\n",
              "      <td>Out of Campus</td>\n",
              "      <td>1</td>\n",
              "      <td>1</td>\n",
              "      <td>5</td>\n",
              "      <td>2</td>\n",
              "      <td>1</td>\n",
              "      <td>2</td>\n",
              "      <td>NaN</td>\n",
              "      <td>NaN</td>\n",
              "      <td>2955</td>\n",
              "      <td>Work-life balance with time for leisure activi...</td>\n",
              "    </tr>\n",
              "    <tr>\n",
              "      <th>2955</th>\n",
              "      <td>GRAD</td>\n",
              "      <td>Foreigner</td>\n",
              "      <td>China</td>\n",
              "      <td>1</td>\n",
              "      <td>1</td>\n",
              "      <td>Master of Science (Track 1)</td>\n",
              "      <td>F</td>\n",
              "      <td>School of Science</td>\n",
              "      <td>Out of Campus</td>\n",
              "      <td>0</td>\n",
              "      <td>1</td>\n",
              "      <td>1</td>\n",
              "      <td>2</td>\n",
              "      <td>1</td>\n",
              "      <td>3</td>\n",
              "      <td>NaN</td>\n",
              "      <td>NaN</td>\n",
              "      <td>2956</td>\n",
              "      <td>NaN</td>\n",
              "    </tr>\n",
              "    <tr>\n",
              "      <th>2956</th>\n",
              "      <td>GRAD</td>\n",
              "      <td>Foreigner</td>\n",
              "      <td>China</td>\n",
              "      <td>4</td>\n",
              "      <td>4</td>\n",
              "      <td>Doctor of Philosophy (FoE)</td>\n",
              "      <td>M</td>\n",
              "      <td>School of Engineering</td>\n",
              "      <td>Out of Campus</td>\n",
              "      <td>3</td>\n",
              "      <td>2</td>\n",
              "      <td>6</td>\n",
              "      <td>2</td>\n",
              "      <td>3</td>\n",
              "      <td>3</td>\n",
              "      <td>NaN</td>\n",
              "      <td>NaN</td>\n",
              "      <td>2957</td>\n",
              "      <td>NaN</td>\n",
              "    </tr>\n",
              "    <tr>\n",
              "      <th>2957</th>\n",
              "      <td>UGRD</td>\n",
              "      <td>Permanent Resident</td>\n",
              "      <td>China</td>\n",
              "      <td>1</td>\n",
              "      <td>1</td>\n",
              "      <td>Bachelor of Science</td>\n",
              "      <td>F</td>\n",
              "      <td>School of Science</td>\n",
              "      <td>Halls</td>\n",
              "      <td>2</td>\n",
              "      <td>2</td>\n",
              "      <td>4</td>\n",
              "      <td>2</td>\n",
              "      <td>3</td>\n",
              "      <td>2</td>\n",
              "      <td>NaN</td>\n",
              "      <td>NaN</td>\n",
              "      <td>2958</td>\n",
              "      <td>My ideal student life is having study-life bal...</td>\n",
              "    </tr>\n",
              "  </tbody>\n",
              "</table>\n",
              "</div>"
            ],
            "text/plain": [
              "     Career  ...                 Q9-What is an ideal student life ?\n",
              "2953   UGRD  ...  The ideal student life is about able to balanc...\n",
              "2954   UGRD  ...  Work-life balance with time for leisure activi...\n",
              "2955   GRAD  ...                                                NaN\n",
              "2956   GRAD  ...                                                NaN\n",
              "2957   UGRD  ...  My ideal student life is having study-life bal...\n",
              "\n",
              "[5 rows x 19 columns]"
            ]
          },
          "metadata": {
            "tags": []
          },
          "execution_count": 244
        }
      ]
    },
    {
      "cell_type": "code",
      "metadata": {
        "colab": {
          "base_uri": "https://localhost:8080/"
        },
        "id": "AL4wVufP9X_O",
        "outputId": "c28c07d9-37de-4283-b3dc-c2c24dd768a1"
      },
      "source": [
        "#check for null values\n",
        "data.isnull().sum()"
      ],
      "execution_count": 245,
      "outputs": [
        {
          "output_type": "execute_result",
          "data": {
            "text/plain": [
              "Career                                                        0\n",
              "Citizenship                                                   0\n",
              "Nationality                                                   0\n",
              "Year since Matriculation                                      0\n",
              "Year of Study                                                 0\n",
              "Primary Programme                                             0\n",
              "Gender                                                        0\n",
              "Department                                                    0\n",
              "Housing Type                                                  0\n",
              "Q1-How many events have you Volunteered in ?                  0\n",
              "Q2-How many events have you Participated in ?                 0\n",
              "Q3-How many activities are you Interested in ?                0\n",
              "Q4-How many activities are you Passionate about ?             0\n",
              "Q5-What are your levels of stress ?                           0\n",
              "Q6-How Satisfied You are with your Student Life ?             0\n",
              "Q7-How much effort do you make to interact with others ?     18\n",
              "Q8-About How events are you aware about ?                    18\n",
              "response_id                                                   0\n",
              "Q9-What is an ideal student life ?                          587\n",
              "dtype: int64"
            ]
          },
          "metadata": {
            "tags": []
          },
          "execution_count": 245
        }
      ]
    },
    {
      "cell_type": "markdown",
      "metadata": {
        "id": "C3WWfyUb9qdg"
      },
      "source": [
        "## Data Cleaning"
      ]
    },
    {
      "cell_type": "code",
      "metadata": {
        "colab": {
          "base_uri": "https://localhost:8080/"
        },
        "id": "5I9CXR8Y91Ho",
        "outputId": "147a37b1-2a27-4b0a-e4fa-8bd1550f5bcf"
      },
      "source": [
        "data['Q7-How much effort do you make to interact with others ?'].isnull().sum()"
      ],
      "execution_count": 246,
      "outputs": [
        {
          "output_type": "execute_result",
          "data": {
            "text/plain": [
              "18"
            ]
          },
          "metadata": {
            "tags": []
          },
          "execution_count": 246
        }
      ]
    },
    {
      "cell_type": "code",
      "metadata": {
        "colab": {
          "base_uri": "https://localhost:8080/"
        },
        "id": "DPSl_u0q9duE",
        "outputId": "7d85295e-5737-4a09-a9a5-d969e2651599"
      },
      "source": [
        "data['Q7-How much effort do you make to interact with others ?'].mode()"
      ],
      "execution_count": 247,
      "outputs": [
        {
          "output_type": "execute_result",
          "data": {
            "text/plain": [
              "0    2.0\n",
              "dtype: float64"
            ]
          },
          "metadata": {
            "tags": []
          },
          "execution_count": 247
        }
      ]
    },
    {
      "cell_type": "code",
      "metadata": {
        "id": "-hElZ2nw97Xs"
      },
      "source": [
        "data['Q7-How much effort do you make to interact with others ?'].fillna('2',inplace=True)"
      ],
      "execution_count": 248,
      "outputs": []
    },
    {
      "cell_type": "code",
      "metadata": {
        "colab": {
          "base_uri": "https://localhost:8080/"
        },
        "id": "0HZXS-On90D9",
        "outputId": "c1ad8366-01cc-4398-aa6c-c3f3f63fc0e7"
      },
      "source": [
        "data['Q7-How much effort do you make to interact with others ?'].isnull().sum()"
      ],
      "execution_count": 249,
      "outputs": [
        {
          "output_type": "execute_result",
          "data": {
            "text/plain": [
              "0"
            ]
          },
          "metadata": {
            "tags": []
          },
          "execution_count": 249
        }
      ]
    },
    {
      "cell_type": "code",
      "metadata": {
        "colab": {
          "base_uri": "https://localhost:8080/"
        },
        "id": "J3FbkSZa-Chr",
        "outputId": "4f7f4675-4488-423f-8cbd-05d8f14e3c9e"
      },
      "source": [
        "data['Q8-About How events are you aware about ?'].isnull().sum()"
      ],
      "execution_count": 250,
      "outputs": [
        {
          "output_type": "execute_result",
          "data": {
            "text/plain": [
              "18"
            ]
          },
          "metadata": {
            "tags": []
          },
          "execution_count": 250
        }
      ]
    },
    {
      "cell_type": "code",
      "metadata": {
        "colab": {
          "base_uri": "https://localhost:8080/"
        },
        "id": "cbhuxTTK-ODk",
        "outputId": "8f24676d-6d3a-4d21-9cb4-f57f83a3c588"
      },
      "source": [
        "data['Q8-About How events are you aware about ?'].mode()"
      ],
      "execution_count": 251,
      "outputs": [
        {
          "output_type": "execute_result",
          "data": {
            "text/plain": [
              "0    2.0\n",
              "dtype: float64"
            ]
          },
          "metadata": {
            "tags": []
          },
          "execution_count": 251
        }
      ]
    },
    {
      "cell_type": "code",
      "metadata": {
        "id": "o89fQs_s-Yjb"
      },
      "source": [
        "data['Q8-About How events are you aware about ?'].fillna('2',inplace=True)"
      ],
      "execution_count": 252,
      "outputs": []
    },
    {
      "cell_type": "code",
      "metadata": {
        "colab": {
          "base_uri": "https://localhost:8080/"
        },
        "id": "yif_B23k-e1a",
        "outputId": "7bba989c-d6b5-47f1-c8d4-7fc0376ddbe1"
      },
      "source": [
        "data['Q8-About How events are you aware about ?'].isnull().sum()"
      ],
      "execution_count": 253,
      "outputs": [
        {
          "output_type": "execute_result",
          "data": {
            "text/plain": [
              "0"
            ]
          },
          "metadata": {
            "tags": []
          },
          "execution_count": 253
        }
      ]
    },
    {
      "cell_type": "code",
      "metadata": {
        "colab": {
          "base_uri": "https://localhost:8080/"
        },
        "id": "a3PU4X3g-go5",
        "outputId": "2dc414de-2636-4f72-b4b7-266eb3297ed9"
      },
      "source": [
        "data.isnull().sum()"
      ],
      "execution_count": 254,
      "outputs": [
        {
          "output_type": "execute_result",
          "data": {
            "text/plain": [
              "Career                                                        0\n",
              "Citizenship                                                   0\n",
              "Nationality                                                   0\n",
              "Year since Matriculation                                      0\n",
              "Year of Study                                                 0\n",
              "Primary Programme                                             0\n",
              "Gender                                                        0\n",
              "Department                                                    0\n",
              "Housing Type                                                  0\n",
              "Q1-How many events have you Volunteered in ?                  0\n",
              "Q2-How many events have you Participated in ?                 0\n",
              "Q3-How many activities are you Interested in ?                0\n",
              "Q4-How many activities are you Passionate about ?             0\n",
              "Q5-What are your levels of stress ?                           0\n",
              "Q6-How Satisfied You are with your Student Life ?             0\n",
              "Q7-How much effort do you make to interact with others ?      0\n",
              "Q8-About How events are you aware about ?                     0\n",
              "response_id                                                   0\n",
              "Q9-What is an ideal student life ?                          587\n",
              "dtype: int64"
            ]
          },
          "metadata": {
            "tags": []
          },
          "execution_count": 254
        }
      ]
    },
    {
      "cell_type": "code",
      "metadata": {
        "colab": {
          "base_uri": "https://localhost:8080/",
          "height": 786
        },
        "id": "zExAn7g_-lnl",
        "outputId": "2b14d924-7ede-419b-a0d3-c3a10dd5b55e"
      },
      "source": [
        "newdata=data.drop(['Year since Matriculation','response_id','Q9-What is an ideal student life ?'],axis=1)\n",
        "newdata"
      ],
      "execution_count": 255,
      "outputs": [
        {
          "output_type": "execute_result",
          "data": {
            "text/html": [
              "<div>\n",
              "<style scoped>\n",
              "    .dataframe tbody tr th:only-of-type {\n",
              "        vertical-align: middle;\n",
              "    }\n",
              "\n",
              "    .dataframe tbody tr th {\n",
              "        vertical-align: top;\n",
              "    }\n",
              "\n",
              "    .dataframe thead th {\n",
              "        text-align: right;\n",
              "    }\n",
              "</style>\n",
              "<table border=\"1\" class=\"dataframe\">\n",
              "  <thead>\n",
              "    <tr style=\"text-align: right;\">\n",
              "      <th></th>\n",
              "      <th>Career</th>\n",
              "      <th>Citizenship</th>\n",
              "      <th>Nationality</th>\n",
              "      <th>Year of Study</th>\n",
              "      <th>Primary Programme</th>\n",
              "      <th>Gender</th>\n",
              "      <th>Department</th>\n",
              "      <th>Housing Type</th>\n",
              "      <th>Q1-How many events have you Volunteered in ?</th>\n",
              "      <th>Q2-How many events have you Participated in ?</th>\n",
              "      <th>Q3-How many activities are you Interested in ?</th>\n",
              "      <th>Q4-How many activities are you Passionate about ?</th>\n",
              "      <th>Q5-What are your levels of stress ?</th>\n",
              "      <th>Q6-How Satisfied You are with your Student Life ?</th>\n",
              "      <th>Q7-How much effort do you make to interact with others ?</th>\n",
              "      <th>Q8-About How events are you aware about ?</th>\n",
              "    </tr>\n",
              "  </thead>\n",
              "  <tbody>\n",
              "    <tr>\n",
              "      <th>0</th>\n",
              "      <td>UGRD</td>\n",
              "      <td>Foreigner</td>\n",
              "      <td>Indonesia</td>\n",
              "      <td>2</td>\n",
              "      <td>Bachelor of Science</td>\n",
              "      <td>F</td>\n",
              "      <td>School of Science</td>\n",
              "      <td>Residences</td>\n",
              "      <td>0</td>\n",
              "      <td>1</td>\n",
              "      <td>3</td>\n",
              "      <td>1</td>\n",
              "      <td>1</td>\n",
              "      <td>2</td>\n",
              "      <td>2</td>\n",
              "      <td>2</td>\n",
              "    </tr>\n",
              "    <tr>\n",
              "      <th>1</th>\n",
              "      <td>UGRD</td>\n",
              "      <td>Country Citizen</td>\n",
              "      <td>Singapore</td>\n",
              "      <td>1</td>\n",
              "      <td>Bachelor of Engineering</td>\n",
              "      <td>F</td>\n",
              "      <td>School of Engineering</td>\n",
              "      <td>Out of Campus</td>\n",
              "      <td>0</td>\n",
              "      <td>1</td>\n",
              "      <td>2</td>\n",
              "      <td>3</td>\n",
              "      <td>1</td>\n",
              "      <td>2</td>\n",
              "      <td>2</td>\n",
              "      <td>3</td>\n",
              "    </tr>\n",
              "    <tr>\n",
              "      <th>2</th>\n",
              "      <td>UGRD</td>\n",
              "      <td>Foreigner</td>\n",
              "      <td>Malaysia</td>\n",
              "      <td>2</td>\n",
              "      <td>Bachelor of Science</td>\n",
              "      <td>M</td>\n",
              "      <td>School of Science</td>\n",
              "      <td>Halls</td>\n",
              "      <td>3</td>\n",
              "      <td>1</td>\n",
              "      <td>1</td>\n",
              "      <td>5</td>\n",
              "      <td>2</td>\n",
              "      <td>2</td>\n",
              "      <td>2</td>\n",
              "      <td>2</td>\n",
              "    </tr>\n",
              "    <tr>\n",
              "      <th>3</th>\n",
              "      <td>UGRD</td>\n",
              "      <td>Foreigner</td>\n",
              "      <td>Malaysia</td>\n",
              "      <td>2</td>\n",
              "      <td>Bachelor of Engineering</td>\n",
              "      <td>M</td>\n",
              "      <td>School of Engineering</td>\n",
              "      <td>Halls</td>\n",
              "      <td>3</td>\n",
              "      <td>4</td>\n",
              "      <td>3</td>\n",
              "      <td>3</td>\n",
              "      <td>7</td>\n",
              "      <td>1</td>\n",
              "      <td>1</td>\n",
              "      <td>1</td>\n",
              "    </tr>\n",
              "    <tr>\n",
              "      <th>4</th>\n",
              "      <td>UGRD</td>\n",
              "      <td>Foreigner</td>\n",
              "      <td>Viet Nam</td>\n",
              "      <td>3</td>\n",
              "      <td>Bachelor of Engineering</td>\n",
              "      <td>F</td>\n",
              "      <td>School of Engineering</td>\n",
              "      <td>Out of Campus</td>\n",
              "      <td>4</td>\n",
              "      <td>3</td>\n",
              "      <td>4</td>\n",
              "      <td>5</td>\n",
              "      <td>4</td>\n",
              "      <td>2</td>\n",
              "      <td>2</td>\n",
              "      <td>2</td>\n",
              "    </tr>\n",
              "    <tr>\n",
              "      <th>...</th>\n",
              "      <td>...</td>\n",
              "      <td>...</td>\n",
              "      <td>...</td>\n",
              "      <td>...</td>\n",
              "      <td>...</td>\n",
              "      <td>...</td>\n",
              "      <td>...</td>\n",
              "      <td>...</td>\n",
              "      <td>...</td>\n",
              "      <td>...</td>\n",
              "      <td>...</td>\n",
              "      <td>...</td>\n",
              "      <td>...</td>\n",
              "      <td>...</td>\n",
              "      <td>...</td>\n",
              "      <td>...</td>\n",
              "    </tr>\n",
              "    <tr>\n",
              "      <th>2953</th>\n",
              "      <td>UGRD</td>\n",
              "      <td>Country Citizen</td>\n",
              "      <td>Singapore</td>\n",
              "      <td>1</td>\n",
              "      <td>Bachelor of Science</td>\n",
              "      <td>F</td>\n",
              "      <td>School of Science</td>\n",
              "      <td>Out of Campus</td>\n",
              "      <td>0</td>\n",
              "      <td>1</td>\n",
              "      <td>5</td>\n",
              "      <td>8</td>\n",
              "      <td>3</td>\n",
              "      <td>2</td>\n",
              "      <td>2</td>\n",
              "      <td>2</td>\n",
              "    </tr>\n",
              "    <tr>\n",
              "      <th>2954</th>\n",
              "      <td>UGRD</td>\n",
              "      <td>Country Citizen</td>\n",
              "      <td>Singapore</td>\n",
              "      <td>2</td>\n",
              "      <td>Bach. of Med.,Bach. of Surg.</td>\n",
              "      <td>M</td>\n",
              "      <td>School of Medicine1</td>\n",
              "      <td>Out of Campus</td>\n",
              "      <td>1</td>\n",
              "      <td>1</td>\n",
              "      <td>5</td>\n",
              "      <td>2</td>\n",
              "      <td>1</td>\n",
              "      <td>2</td>\n",
              "      <td>2</td>\n",
              "      <td>2</td>\n",
              "    </tr>\n",
              "    <tr>\n",
              "      <th>2955</th>\n",
              "      <td>GRAD</td>\n",
              "      <td>Foreigner</td>\n",
              "      <td>China</td>\n",
              "      <td>1</td>\n",
              "      <td>Master of Science (Track 1)</td>\n",
              "      <td>F</td>\n",
              "      <td>School of Science</td>\n",
              "      <td>Out of Campus</td>\n",
              "      <td>0</td>\n",
              "      <td>1</td>\n",
              "      <td>1</td>\n",
              "      <td>2</td>\n",
              "      <td>1</td>\n",
              "      <td>3</td>\n",
              "      <td>2</td>\n",
              "      <td>2</td>\n",
              "    </tr>\n",
              "    <tr>\n",
              "      <th>2956</th>\n",
              "      <td>GRAD</td>\n",
              "      <td>Foreigner</td>\n",
              "      <td>China</td>\n",
              "      <td>4</td>\n",
              "      <td>Doctor of Philosophy (FoE)</td>\n",
              "      <td>M</td>\n",
              "      <td>School of Engineering</td>\n",
              "      <td>Out of Campus</td>\n",
              "      <td>3</td>\n",
              "      <td>2</td>\n",
              "      <td>6</td>\n",
              "      <td>2</td>\n",
              "      <td>3</td>\n",
              "      <td>3</td>\n",
              "      <td>2</td>\n",
              "      <td>2</td>\n",
              "    </tr>\n",
              "    <tr>\n",
              "      <th>2957</th>\n",
              "      <td>UGRD</td>\n",
              "      <td>Permanent Resident</td>\n",
              "      <td>China</td>\n",
              "      <td>1</td>\n",
              "      <td>Bachelor of Science</td>\n",
              "      <td>F</td>\n",
              "      <td>School of Science</td>\n",
              "      <td>Halls</td>\n",
              "      <td>2</td>\n",
              "      <td>2</td>\n",
              "      <td>4</td>\n",
              "      <td>2</td>\n",
              "      <td>3</td>\n",
              "      <td>2</td>\n",
              "      <td>2</td>\n",
              "      <td>2</td>\n",
              "    </tr>\n",
              "  </tbody>\n",
              "</table>\n",
              "<p>2958 rows × 16 columns</p>\n",
              "</div>"
            ],
            "text/plain": [
              "     Career  ... Q8-About How events are you aware about ?\n",
              "0      UGRD  ...                                         2\n",
              "1      UGRD  ...                                         3\n",
              "2      UGRD  ...                                         2\n",
              "3      UGRD  ...                                         1\n",
              "4      UGRD  ...                                         2\n",
              "...     ...  ...                                       ...\n",
              "2953   UGRD  ...                                         2\n",
              "2954   UGRD  ...                                         2\n",
              "2955   GRAD  ...                                         2\n",
              "2956   GRAD  ...                                         2\n",
              "2957   UGRD  ...                                         2\n",
              "\n",
              "[2958 rows x 16 columns]"
            ]
          },
          "metadata": {
            "tags": []
          },
          "execution_count": 255
        }
      ]
    },
    {
      "cell_type": "code",
      "metadata": {
        "colab": {
          "base_uri": "https://localhost:8080/"
        },
        "id": "LbiBnmAq_Gz8",
        "outputId": "f4f9d33a-3fdc-412c-e31b-420e04649f95"
      },
      "source": [
        "newdata.columns"
      ],
      "execution_count": 256,
      "outputs": [
        {
          "output_type": "execute_result",
          "data": {
            "text/plain": [
              "Index(['Career', 'Citizenship', 'Nationality', 'Year of Study',\n",
              "       'Primary Programme', 'Gender', 'Department', 'Housing Type',\n",
              "       'Q1-How many events have you Volunteered in ?',\n",
              "       'Q2-How many events have you Participated in ?',\n",
              "       'Q3-How many activities are you Interested in ?',\n",
              "       'Q4-How many activities are you Passionate about ?',\n",
              "       'Q5-What are your levels of stress ?',\n",
              "       'Q6-How Satisfied You are with your Student Life ?',\n",
              "       'Q7-How much effort do you make to interact with others ?',\n",
              "       'Q8-About How events are you aware about ?'],\n",
              "      dtype='object')"
            ]
          },
          "metadata": {
            "tags": []
          },
          "execution_count": 256
        }
      ]
    },
    {
      "cell_type": "code",
      "metadata": {
        "colab": {
          "base_uri": "https://localhost:8080/"
        },
        "id": "jkVMCsTe_Kd6",
        "outputId": "4554dc21-23e3-4e10-8b88-593bc120126b"
      },
      "source": [
        "newdata.info()"
      ],
      "execution_count": 257,
      "outputs": [
        {
          "output_type": "stream",
          "text": [
            "<class 'pandas.core.frame.DataFrame'>\n",
            "RangeIndex: 2958 entries, 0 to 2957\n",
            "Data columns (total 16 columns):\n",
            " #   Column                                                    Non-Null Count  Dtype \n",
            "---  ------                                                    --------------  ----- \n",
            " 0   Career                                                    2958 non-null   object\n",
            " 1   Citizenship                                               2958 non-null   object\n",
            " 2   Nationality                                               2958 non-null   object\n",
            " 3   Year of Study                                             2958 non-null   int64 \n",
            " 4   Primary Programme                                         2958 non-null   object\n",
            " 5   Gender                                                    2958 non-null   object\n",
            " 6   Department                                                2958 non-null   object\n",
            " 7   Housing Type                                              2958 non-null   object\n",
            " 8   Q1-How many events have you Volunteered in ?              2958 non-null   int64 \n",
            " 9   Q2-How many events have you Participated in ?             2958 non-null   int64 \n",
            " 10  Q3-How many activities are you Interested in ?            2958 non-null   int64 \n",
            " 11  Q4-How many activities are you Passionate about ?         2958 non-null   int64 \n",
            " 12  Q5-What are your levels of stress ?                       2958 non-null   int64 \n",
            " 13  Q6-How Satisfied You are with your Student Life ?         2958 non-null   int64 \n",
            " 14  Q7-How much effort do you make to interact with others ?  2958 non-null   object\n",
            " 15  Q8-About How events are you aware about ?                 2958 non-null   object\n",
            "dtypes: int64(7), object(9)\n",
            "memory usage: 369.9+ KB\n"
          ],
          "name": "stdout"
        }
      ]
    },
    {
      "cell_type": "markdown",
      "metadata": {
        "id": "KCbAxyHY_SNK"
      },
      "source": [
        "## Data Visualization"
      ]
    },
    {
      "cell_type": "code",
      "metadata": {
        "id": "kJ4tfMUk_PSC"
      },
      "source": [
        "import matplotlib.pyplot as plt\n",
        "%matplotlib inline\n",
        "import seaborn as sns"
      ],
      "execution_count": 258,
      "outputs": []
    },
    {
      "cell_type": "code",
      "metadata": {
        "colab": {
          "base_uri": "https://localhost:8080/"
        },
        "id": "M2A3aES0_ZXf",
        "outputId": "9c0360c3-984b-4599-8fb4-472a48326bc8"
      },
      "source": [
        "newdata['Career'].value_counts()"
      ],
      "execution_count": 259,
      "outputs": [
        {
          "output_type": "execute_result",
          "data": {
            "text/plain": [
              "UGRD    2694\n",
              "GRAD     218\n",
              "NGRD      46\n",
              "Name: Career, dtype: int64"
            ]
          },
          "metadata": {
            "tags": []
          },
          "execution_count": 259
        }
      ]
    },
    {
      "cell_type": "code",
      "metadata": {
        "colab": {
          "base_uri": "https://localhost:8080/",
          "height": 392
        },
        "id": "EKONw-t7_fhJ",
        "outputId": "1b20db8c-ba2c-42ac-805b-ffb21596dce2"
      },
      "source": [
        "newdata['Career'].value_counts().plot.pie(autopct='%.2f',figsize=(8,6),fontsize=12)\n",
        "plt.title('Career ',fontsize=16)"
      ],
      "execution_count": 260,
      "outputs": [
        {
          "output_type": "execute_result",
          "data": {
            "text/plain": [
              "Text(0.5, 1.0, 'Career ')"
            ]
          },
          "metadata": {
            "tags": []
          },
          "execution_count": 260
        },
        {
          "output_type": "display_data",
          "data": {
            "image/png": "[encoded data removed]",
            "text/plain": [
              "<Figure size 576x432 with 1 Axes>"
            ]
          },
          "metadata": {
            "tags": []
          }
        }
      ]
    },
    {
      "cell_type": "markdown",
      "metadata": {
        "id": "okdPNCKzTnHP"
      },
      "source": [
        "Most of the people are from undergraduate career."
      ]
    },
    {
      "cell_type": "code",
      "metadata": {
        "colab": {
          "base_uri": "https://localhost:8080/"
        },
        "id": "oSTuPoLf_x0e",
        "outputId": "277f4056-fdb2-4cdd-f568-498533891447"
      },
      "source": [
        "newdata['Citizenship'].value_counts()"
      ],
      "execution_count": 261,
      "outputs": [
        {
          "output_type": "execute_result",
          "data": {
            "text/plain": [
              "Country Citizen       2467\n",
              "Foreigner              343\n",
              "Permanent Resident     148\n",
              "Name: Citizenship, dtype: int64"
            ]
          },
          "metadata": {
            "tags": []
          },
          "execution_count": 261
        }
      ]
    },
    {
      "cell_type": "code",
      "metadata": {
        "colab": {
          "base_uri": "https://localhost:8080/",
          "height": 392
        },
        "id": "oTt5yqZPAXKT",
        "outputId": "947f29c6-0fd2-40d1-af5a-2c0ff3e6049f"
      },
      "source": [
        "newdata['Citizenship'].value_counts().plot.pie(autopct='%.2f',figsize=(8,6),fontsize=12)\n",
        "plt.title('Citizenship',fontsize=16)"
      ],
      "execution_count": 262,
      "outputs": [
        {
          "output_type": "execute_result",
          "data": {
            "text/plain": [
              "Text(0.5, 1.0, 'Citizenship')"
            ]
          },
          "metadata": {
            "tags": []
          },
          "execution_count": 262
        },
        {
          "output_type": "display_data",
          "data": {
            "image/png": "[encoded data removed]",
            "text/plain": [
              "<Figure size 576x432 with 1 Axes>"
            ]
          },
          "metadata": {
            "tags": []
          }
        }
      ]
    },
    {
      "cell_type": "markdown",
      "metadata": {
        "id": "S9mi1LJuT1xq"
      },
      "source": [
        "Most od the people are Country Citizen."
      ]
    },
    {
      "cell_type": "code",
      "metadata": {
        "colab": {
          "base_uri": "https://localhost:8080/"
        },
        "id": "8agVp-9nAfGI",
        "outputId": "88e0f4c5-092c-4f2c-c466-5632e36312a9"
      },
      "source": [
        "newdata['Nationality'].value_counts()"
      ],
      "execution_count": 263,
      "outputs": [
        {
          "output_type": "execute_result",
          "data": {
            "text/plain": [
              "Singapore                    2467\n",
              "China                         158\n",
              "Malaysia                      130\n",
              "India                          47\n",
              "Indonesia                      39\n",
              "Viet Nam                       20\n",
              "Canada                         17\n",
              "United States                  15\n",
              "Taiwan                         13\n",
              "Korea, Republic of             10\n",
              "Myanmar                         7\n",
              "Hong Kong                       4\n",
              "Germany                         3\n",
              "Thailand                        3\n",
              "Philippines                     3\n",
              "Bangladesh                      2\n",
              "Sri Lanka                       2\n",
              "Mexico                          2\n",
              "United Kingdom                  2\n",
              "Nepal                           2\n",
              "Japan                           2\n",
              "Netherlands                     1\n",
              "British National Overseas       1\n",
              "Australia                       1\n",
              "Poland                          1\n",
              "Switzerland                     1\n",
              "Turkey                          1\n",
              "Denmark                         1\n",
              "Israel                          1\n",
              "Pakistan                        1\n",
              "France                          1\n",
              "Name: Nationality, dtype: int64"
            ]
          },
          "metadata": {
            "tags": []
          },
          "execution_count": 263
        }
      ]
    },
    {
      "cell_type": "code",
      "metadata": {
        "colab": {
          "base_uri": "https://localhost:8080/",
          "height": 584
        },
        "id": "uITr7g-XRScH",
        "outputId": "7323697b-55ff-4dfc-b388-30877c8ed39d"
      },
      "source": [
        "count1=newdata['Nationality'].value_counts()\n",
        "plt.figure(figsize=(15,6))\n",
        "sns.barplot(count1.index,count1.values, alpha=0.8)\n",
        "plt.title('Nationality', fontsize=20)\n",
        "plt.ylabel('Number of Persons', fontsize=15)\n",
        "plt.xlabel('Nations', fontsize=15)\n",
        "plt.xticks(rotation=90)\n",
        "plt.show()"
      ],
      "execution_count": 264,
      "outputs": [
        {
          "output_type": "stream",
          "text": [
            "/usr/local/lib/python3.7/dist-packages/seaborn/_decorators.py:43: FutureWarning: Pass the following variables as keyword args: x, y. From version 0.12, the only valid positional argument will be `data`, and passing other arguments without an explicit keyword will result in an error or misinterpretation.\n",
            "  FutureWarning\n"
          ],
          "name": "stderr"
        },
        {
          "output_type": "display_data",
          "data": {
            "image/png": "[encoded data removed]",
            "text/plain": [
              "<Figure size 1080x432 with 1 Axes>"
            ]
          },
          "metadata": {
            "tags": [],
            "needs_background": "light"
          }
        }
      ]
    },
    {
      "cell_type": "markdown",
      "metadata": {
        "id": "SmA8t8PBULgg"
      },
      "source": [
        "Most of people are from Singapore."
      ]
    },
    {
      "cell_type": "code",
      "metadata": {
        "colab": {
          "base_uri": "https://localhost:8080/"
        },
        "id": "KybQHs9gAtbc",
        "outputId": "1f15bfe9-32ff-4d64-9bc2-6fb10b88f7b2"
      },
      "source": [
        "newdata['Year of Study'].value_counts()"
      ],
      "execution_count": 265,
      "outputs": [
        {
          "output_type": "execute_result",
          "data": {
            "text/plain": [
              "1    1018\n",
              "2     819\n",
              "3     635\n",
              "4     465\n",
              "5      21\n",
              "Name: Year of Study, dtype: int64"
            ]
          },
          "metadata": {
            "tags": []
          },
          "execution_count": 265
        }
      ]
    },
    {
      "cell_type": "code",
      "metadata": {
        "colab": {
          "base_uri": "https://localhost:8080/",
          "height": 392
        },
        "id": "-caeHMpMA4qC",
        "outputId": "6410654f-cf6d-4141-89ad-d7e2b5f62d82"
      },
      "source": [
        "newdata['Year of Study'].value_counts().plot.pie(autopct='%.2f',figsize=(8,6),fontsize=12)\n",
        "plt.title('Year Of Study',fontsize=16)"
      ],
      "execution_count": 266,
      "outputs": [
        {
          "output_type": "execute_result",
          "data": {
            "text/plain": [
              "Text(0.5, 1.0, 'Year Of Study')"
            ]
          },
          "metadata": {
            "tags": []
          },
          "execution_count": 266
        },
        {
          "output_type": "display_data",
          "data": {
            "image/png": "[encoded data removed]",
            "text/plain": [
              "<Figure size 576x432 with 1 Axes>"
            ]
          },
          "metadata": {
            "tags": []
          }
        }
      ]
    },
    {
      "cell_type": "markdown",
      "metadata": {
        "id": "j7PgWH4DUVIF"
      },
      "source": [
        "Most people are in the first year of their study field."
      ]
    },
    {
      "cell_type": "code",
      "metadata": {
        "colab": {
          "base_uri": "https://localhost:8080/"
        },
        "id": "EG_pgIzeA9JL",
        "outputId": "099eb755-99a1-4283-9203-40ce4375054a"
      },
      "source": [
        "newdata['Primary Programme'].value_counts()"
      ],
      "execution_count": 267,
      "outputs": [
        {
          "output_type": "execute_result",
          "data": {
            "text/plain": [
              "Bachelor of Arts              609\n",
              "Bachelor of Engineering       511\n",
              "Bachelor of Science           482\n",
              "Bachelor of Business Admin    307\n",
              "Bachelor of Science (SDE)     132\n",
              "                             ... \n",
              "Non-Exchange (Coursework)       1\n",
              "Doctor of Philosophy (CQT)      1\n",
              "Graduate Diploma (FASS)         1\n",
              "Master of Science (RMI)         1\n",
              "Master of Arts                  1\n",
              "Name: Primary Programme, Length: 68, dtype: int64"
            ]
          },
          "metadata": {
            "tags": []
          },
          "execution_count": 267
        }
      ]
    },
    {
      "cell_type": "code",
      "metadata": {
        "colab": {
          "base_uri": "https://localhost:8080/",
          "height": 632
        },
        "id": "WNFMj5P6RgYS",
        "outputId": "4f4897ee-ee54-4519-ff46-c2eb6b4357df"
      },
      "source": [
        "count1=newdata['Primary Programme'].value_counts()\n",
        "plt.figure(figsize=(15,6))\n",
        "sns.barplot(count1.index,count1.values, alpha=0.8)\n",
        "plt.title('Primary Programme', fontsize=20)\n",
        "plt.ylabel('Number of Persons', fontsize=15)\n",
        "plt.xlabel('Fields', fontsize=15)\n",
        "plt.xticks(rotation=90)\n",
        "plt.show()"
      ],
      "execution_count": 268,
      "outputs": [
        {
          "output_type": "stream",
          "text": [
            "/usr/local/lib/python3.7/dist-packages/seaborn/_decorators.py:43: FutureWarning: Pass the following variables as keyword args: x, y. From version 0.12, the only valid positional argument will be `data`, and passing other arguments without an explicit keyword will result in an error or misinterpretation.\n",
            "  FutureWarning\n"
          ],
          "name": "stderr"
        },
        {
          "output_type": "display_data",
          "data": {
            "image/png": "[encoded data removed]",
            "text/plain": [
              "<Figure size 1080x432 with 1 Axes>"
            ]
          },
          "metadata": {
            "tags": [],
            "needs_background": "light"
          }
        }
      ]
    },
    {
      "cell_type": "markdown",
      "metadata": {
        "id": "wx6B2vajUipN"
      },
      "source": [
        "Most people are from Bachelor of Arts, Bachelor of Engineering and Bachelor of Science"
      ]
    },
    {
      "cell_type": "code",
      "metadata": {
        "colab": {
          "base_uri": "https://localhost:8080/"
        },
        "id": "W7ZKLtznBNJ5",
        "outputId": "a7402866-fedf-42f8-d1b0-7415a098f6d8"
      },
      "source": [
        "newdata['Gender'].value_counts()"
      ],
      "execution_count": 269,
      "outputs": [
        {
          "output_type": "execute_result",
          "data": {
            "text/plain": [
              "F    1899\n",
              "M    1059\n",
              "Name: Gender, dtype: int64"
            ]
          },
          "metadata": {
            "tags": []
          },
          "execution_count": 269
        }
      ]
    },
    {
      "cell_type": "code",
      "metadata": {
        "colab": {
          "base_uri": "https://localhost:8080/",
          "height": 392
        },
        "id": "0ZkpZPr9BTlj",
        "outputId": "42c89b59-a120-4e96-8f93-f02128560988"
      },
      "source": [
        "newdata['Gender'].value_counts().plot.pie(autopct='%.2f',figsize=(8,6),fontsize=12)\n",
        "plt.title('Gender',fontsize=16)"
      ],
      "execution_count": 270,
      "outputs": [
        {
          "output_type": "execute_result",
          "data": {
            "text/plain": [
              "Text(0.5, 1.0, 'Gender')"
            ]
          },
          "metadata": {
            "tags": []
          },
          "execution_count": 270
        },
        {
          "output_type": "display_data",
          "data": {
            "image/png": "[encoded data removed]",
            "text/plain": [
              "<Figure size 576x432 with 1 Axes>"
            ]
          },
          "metadata": {
            "tags": []
          }
        }
      ]
    },
    {
      "cell_type": "code",
      "metadata": {
        "colab": {
          "base_uri": "https://localhost:8080/"
        },
        "id": "rSTsF0FYBYAt",
        "outputId": "6b57e39b-b191-4612-eb27-e3524a4c2ea8"
      },
      "source": [
        "newdata['Department'].value_counts()"
      ],
      "execution_count": 271,
      "outputs": [
        {
          "output_type": "execute_result",
          "data": {
            "text/plain": [
              "School of Arts & Social Science           743\n",
              "School of Science                         661\n",
              "School of Engineering                     562\n",
              "School of Business School                 318\n",
              "School of Design & Environment            171\n",
              "School of Computing                       138\n",
              "School of Medicine1                       126\n",
              "School of Law                              53\n",
              "School of Exchange Students                46\n",
              "School of Multi Disciplinary Programme     31\n",
              "School of Foreign College                  30\n",
              "School of Systems Science                  19\n",
              "School of International Science            16\n",
              "School of Dentistry                        14\n",
              "School of Medicine2                        10\n",
              "School of Public Policy                     6\n",
              "School of Conservatory of Music             6\n",
              "School of Public Health                     3\n",
              "School of Cont & Lifelong Edun              3\n",
              "School of Risk Management                   1\n",
              "School of Defence System                    1\n",
              "Name: Department, dtype: int64"
            ]
          },
          "metadata": {
            "tags": []
          },
          "execution_count": 271
        }
      ]
    },
    {
      "cell_type": "code",
      "metadata": {
        "colab": {
          "base_uri": "https://localhost:8080/",
          "height": 653
        },
        "id": "UOUWqq-4R3p9",
        "outputId": "4d8bb09b-6a27-446e-c05a-8da7633d2149"
      },
      "source": [
        "count1=newdata['Department'].value_counts()\n",
        "plt.figure(figsize=(15,6))\n",
        "sns.barplot(count1.index,count1.values, alpha=0.8)\n",
        "plt.title('Department', fontsize=20)\n",
        "plt.ylabel('Number of Persons', fontsize=15)\n",
        "plt.xlabel('Name of the department', fontsize=15)\n",
        "plt.xticks(rotation=90)\n",
        "plt.show()"
      ],
      "execution_count": 272,
      "outputs": [
        {
          "output_type": "stream",
          "text": [
            "/usr/local/lib/python3.7/dist-packages/seaborn/_decorators.py:43: FutureWarning: Pass the following variables as keyword args: x, y. From version 0.12, the only valid positional argument will be `data`, and passing other arguments without an explicit keyword will result in an error or misinterpretation.\n",
            "  FutureWarning\n"
          ],
          "name": "stderr"
        },
        {
          "output_type": "display_data",
          "data": {
            "image/png": "[encoded data removed]",
            "text/plain": [
              "<Figure size 1080x432 with 1 Axes>"
            ]
          },
          "metadata": {
            "tags": [],
            "needs_background": "light"
          }
        }
      ]
    },
    {
      "cell_type": "code",
      "metadata": {
        "colab": {
          "base_uri": "https://localhost:8080/"
        },
        "id": "o54SGxhZBidE",
        "outputId": "da79a4d0-dda1-4556-ae2d-651624392dd1"
      },
      "source": [
        "newdata['Housing Type'].value_counts()"
      ],
      "execution_count": 273,
      "outputs": [
        {
          "output_type": "execute_result",
          "data": {
            "text/plain": [
              "Out of Campus           2038\n",
              "Halls                    523\n",
              "Residential Colleges     263\n",
              "Residences               134\n",
              "Name: Housing Type, dtype: int64"
            ]
          },
          "metadata": {
            "tags": []
          },
          "execution_count": 273
        }
      ]
    },
    {
      "cell_type": "code",
      "metadata": {
        "colab": {
          "base_uri": "https://localhost:8080/",
          "height": 392
        },
        "id": "baVheU1eBpje",
        "outputId": "f48aedbf-9f59-4622-d469-b8093c6643be"
      },
      "source": [
        "newdata['Housing Type'].value_counts().plot.pie(autopct='%.2f',figsize=(8,6),fontsize=12)\n",
        "plt.title('Housing Type',fontsize=16)"
      ],
      "execution_count": 274,
      "outputs": [
        {
          "output_type": "execute_result",
          "data": {
            "text/plain": [
              "Text(0.5, 1.0, 'Housing Type')"
            ]
          },
          "metadata": {
            "tags": []
          },
          "execution_count": 274
        },
        {
          "output_type": "display_data",
          "data": {
            "image/png": "[encoded data removed]",
            "text/plain": [
              "<Figure size 576x432 with 1 Axes>"
            ]
          },
          "metadata": {
            "tags": []
          }
        }
      ]
    },
    {
      "cell_type": "markdown",
      "metadata": {
        "id": "WkzrmD3nVQWx"
      },
      "source": [
        "Most of the people live outside the campus."
      ]
    },
    {
      "cell_type": "markdown",
      "metadata": {
        "id": "8SXMJq4fSDpM"
      },
      "source": [
        "Visualizations for Survey Questions:"
      ]
    },
    {
      "cell_type": "code",
      "metadata": {
        "colab": {
          "base_uri": "https://localhost:8080/",
          "height": 467
        },
        "id": "BTtY_5CPSKXZ",
        "outputId": "4db5e8fe-7fac-4997-e377-ae8ec9bde392"
      },
      "source": [
        "count1=newdata['Q1-How many events have you Volunteered in ?'].value_counts()\n",
        "plt.figure(figsize=(15,6))\n",
        "sns.barplot(count1.index,count1.values, alpha=0.8)\n",
        "plt.title('How many events have you Volunteered in ?', fontsize=20)\n",
        "plt.ylabel('Number of Persons', fontsize=15)\n",
        "plt.xlabel('Responses', fontsize=15)\n",
        "plt.show()"
      ],
      "execution_count": 275,
      "outputs": [
        {
          "output_type": "stream",
          "text": [
            "/usr/local/lib/python3.7/dist-packages/seaborn/_decorators.py:43: FutureWarning: Pass the following variables as keyword args: x, y. From version 0.12, the only valid positional argument will be `data`, and passing other arguments without an explicit keyword will result in an error or misinterpretation.\n",
            "  FutureWarning\n"
          ],
          "name": "stderr"
        },
        {
          "output_type": "display_data",
          "data": {
            "image/png": "[encoded data removed]",
            "text/plain": [
              "<Figure size 1080x432 with 1 Axes>"
            ]
          },
          "metadata": {
            "tags": [],
            "needs_background": "light"
          }
        }
      ]
    },
    {
      "cell_type": "code",
      "metadata": {
        "colab": {
          "base_uri": "https://localhost:8080/",
          "height": 467
        },
        "id": "IPRBE-2GSS18",
        "outputId": "b9173286-c474-4fb0-8dd4-8b6e6875aac6"
      },
      "source": [
        "count1=newdata['Q2-How many events have you Participated in ?'].value_counts()\n",
        "plt.figure(figsize=(15,6))\n",
        "sns.barplot(count1.index,count1.values, alpha=0.8)\n",
        "plt.title('How many events have you Participated in ?', fontsize=20)\n",
        "plt.ylabel('Number of Persons', fontsize=15)\n",
        "plt.xlabel('Responses', fontsize=15)\n",
        "plt.show()"
      ],
      "execution_count": 276,
      "outputs": [
        {
          "output_type": "stream",
          "text": [
            "/usr/local/lib/python3.7/dist-packages/seaborn/_decorators.py:43: FutureWarning: Pass the following variables as keyword args: x, y. From version 0.12, the only valid positional argument will be `data`, and passing other arguments without an explicit keyword will result in an error or misinterpretation.\n",
            "  FutureWarning\n"
          ],
          "name": "stderr"
        },
        {
          "output_type": "display_data",
          "data": {
            "image/png": "[encoded data removed]",
            "text/plain": [
              "<Figure size 1080x432 with 1 Axes>"
            ]
          },
          "metadata": {
            "tags": [],
            "needs_background": "light"
          }
        }
      ]
    },
    {
      "cell_type": "code",
      "metadata": {
        "colab": {
          "base_uri": "https://localhost:8080/",
          "height": 467
        },
        "id": "6kVRB548SbpS",
        "outputId": "1bff46e1-ee37-40c9-e70a-1307b1c47179"
      },
      "source": [
        "count1=newdata['Q3-How many activities are you Interested in ?'].value_counts()\n",
        "plt.figure(figsize=(15,6))\n",
        "sns.barplot(count1.index,count1.values, alpha=0.8)\n",
        "plt.title('How many activities are you Interested in ?', fontsize=20)\n",
        "plt.ylabel('Number of Persons', fontsize=15)\n",
        "plt.xlabel('Responses', fontsize=15)\n",
        "plt.show()"
      ],
      "execution_count": 277,
      "outputs": [
        {
          "output_type": "stream",
          "text": [
            "/usr/local/lib/python3.7/dist-packages/seaborn/_decorators.py:43: FutureWarning: Pass the following variables as keyword args: x, y. From version 0.12, the only valid positional argument will be `data`, and passing other arguments without an explicit keyword will result in an error or misinterpretation.\n",
            "  FutureWarning\n"
          ],
          "name": "stderr"
        },
        {
          "output_type": "display_data",
          "data": {
            "image/png": "[encoded data removed]",
            "text/plain": [
              "<Figure size 1080x432 with 1 Axes>"
            ]
          },
          "metadata": {
            "tags": [],
            "needs_background": "light"
          }
        }
      ]
    },
    {
      "cell_type": "code",
      "metadata": {
        "colab": {
          "base_uri": "https://localhost:8080/",
          "height": 467
        },
        "id": "stZ9fvTVSk0w",
        "outputId": "7587dd88-2ad3-4ed0-8dd2-69b29198a7ea"
      },
      "source": [
        "count1=newdata['Q4-How many activities are you Passionate about ?'].value_counts()\n",
        "plt.figure(figsize=(15,6))\n",
        "sns.barplot(count1.index,count1.values, alpha=0.8)\n",
        "plt.title('How many activities are you Passionate about ?', fontsize=20)\n",
        "plt.ylabel('Number of Persons', fontsize=15)\n",
        "plt.xlabel('Responses', fontsize=15)\n",
        "plt.show()"
      ],
      "execution_count": 278,
      "outputs": [
        {
          "output_type": "stream",
          "text": [
            "/usr/local/lib/python3.7/dist-packages/seaborn/_decorators.py:43: FutureWarning: Pass the following variables as keyword args: x, y. From version 0.12, the only valid positional argument will be `data`, and passing other arguments without an explicit keyword will result in an error or misinterpretation.\n",
            "  FutureWarning\n"
          ],
          "name": "stderr"
        },
        {
          "output_type": "display_data",
          "data": {
            "image/png": "[encoded data removed]",
            "text/plain": [
              "<Figure size 1080x432 with 1 Axes>"
            ]
          },
          "metadata": {
            "tags": [],
            "needs_background": "light"
          }
        }
      ]
    },
    {
      "cell_type": "code",
      "metadata": {
        "colab": {
          "base_uri": "https://localhost:8080/",
          "height": 467
        },
        "id": "oX8ZPisbSzND",
        "outputId": "3c8e69e2-910f-433e-ad71-2c9eb917b492"
      },
      "source": [
        "count1=newdata['Q6-How Satisfied You are with your Student Life ?'].value_counts()\n",
        "plt.figure(figsize=(15,6))\n",
        "sns.barplot(count1.index,count1.values, alpha=0.8)\n",
        "plt.title('How Satisfied You are with your Student Life ?', fontsize=20)\n",
        "plt.ylabel('Number of Persons', fontsize=15)\n",
        "plt.xlabel('Responses', fontsize=15)\n",
        "plt.show()"
      ],
      "execution_count": 279,
      "outputs": [
        {
          "output_type": "stream",
          "text": [
            "/usr/local/lib/python3.7/dist-packages/seaborn/_decorators.py:43: FutureWarning: Pass the following variables as keyword args: x, y. From version 0.12, the only valid positional argument will be `data`, and passing other arguments without an explicit keyword will result in an error or misinterpretation.\n",
            "  FutureWarning\n"
          ],
          "name": "stderr"
        },
        {
          "output_type": "display_data",
          "data": {
            "image/png": "[encoded data removed]",
            "text/plain": [
              "<Figure size 1080x432 with 1 Axes>"
            ]
          },
          "metadata": {
            "tags": [],
            "needs_background": "light"
          }
        }
      ]
    },
    {
      "cell_type": "code",
      "metadata": {
        "colab": {
          "base_uri": "https://localhost:8080/",
          "height": 467
        },
        "id": "wOam_XONS7xD",
        "outputId": "6b9b6f87-99fc-4a42-94b4-51f7205976b8"
      },
      "source": [
        "count1=newdata['Q7-How much effort do you make to interact with others ?'].value_counts()\n",
        "plt.figure(figsize=(15,6))\n",
        "sns.barplot(count1.index,count1.values, alpha=0.8)\n",
        "plt.title('How much effort do you make to interact with others ?', fontsize=20)\n",
        "plt.ylabel('Number of Persons', fontsize=15)\n",
        "plt.xlabel('Responses', fontsize=15)\n",
        "plt.show()"
      ],
      "execution_count": 280,
      "outputs": [
        {
          "output_type": "stream",
          "text": [
            "/usr/local/lib/python3.7/dist-packages/seaborn/_decorators.py:43: FutureWarning: Pass the following variables as keyword args: x, y. From version 0.12, the only valid positional argument will be `data`, and passing other arguments without an explicit keyword will result in an error or misinterpretation.\n",
            "  FutureWarning\n"
          ],
          "name": "stderr"
        },
        {
          "output_type": "display_data",
          "data": {
            "image/png": "[encoded data removed]",
            "text/plain": [
              "<Figure size 1080x432 with 1 Axes>"
            ]
          },
          "metadata": {
            "tags": [],
            "needs_background": "light"
          }
        }
      ]
    },
    {
      "cell_type": "code",
      "metadata": {
        "colab": {
          "base_uri": "https://localhost:8080/",
          "height": 467
        },
        "id": "ONeW-SNiTFxJ",
        "outputId": "cedeaf49-90e2-4375-9403-94f9b1bf9ee7"
      },
      "source": [
        "count1=newdata['Q8-About How events are you aware about ?'].value_counts()\n",
        "plt.figure(figsize=(15,6))\n",
        "sns.barplot(count1.index,count1.values, alpha=0.8)\n",
        "plt.title('About How events are you aware about ?', fontsize=20)\n",
        "plt.ylabel('Number of Persons', fontsize=15)\n",
        "plt.xlabel('Responses', fontsize=15)\n",
        "plt.show()"
      ],
      "execution_count": 281,
      "outputs": [
        {
          "output_type": "stream",
          "text": [
            "/usr/local/lib/python3.7/dist-packages/seaborn/_decorators.py:43: FutureWarning: Pass the following variables as keyword args: x, y. From version 0.12, the only valid positional argument will be `data`, and passing other arguments without an explicit keyword will result in an error or misinterpretation.\n",
            "  FutureWarning\n"
          ],
          "name": "stderr"
        },
        {
          "output_type": "display_data",
          "data": {
            "image/png": "[encoded data removed]",
            "text/plain": [
              "<Figure size 1080x432 with 1 Axes>"
            ]
          },
          "metadata": {
            "tags": [],
            "needs_background": "light"
          }
        }
      ]
    },
    {
      "cell_type": "markdown",
      "metadata": {
        "id": "vBE0tMtQEUmn"
      },
      "source": [
        "## Data Training"
      ]
    },
    {
      "cell_type": "code",
      "metadata": {
        "colab": {
          "base_uri": "https://localhost:8080/"
        },
        "id": "jrL1CAWUEhye",
        "outputId": "742faf0d-45a0-426f-bedd-826ebd365b35"
      },
      "source": [
        "newdata.columns"
      ],
      "execution_count": 282,
      "outputs": [
        {
          "output_type": "execute_result",
          "data": {
            "text/plain": [
              "Index(['Career', 'Citizenship', 'Nationality', 'Year of Study',\n",
              "       'Primary Programme', 'Gender', 'Department', 'Housing Type',\n",
              "       'Q1-How many events have you Volunteered in ?',\n",
              "       'Q2-How many events have you Participated in ?',\n",
              "       'Q3-How many activities are you Interested in ?',\n",
              "       'Q4-How many activities are you Passionate about ?',\n",
              "       'Q5-What are your levels of stress ?',\n",
              "       'Q6-How Satisfied You are with your Student Life ?',\n",
              "       'Q7-How much effort do you make to interact with others ?',\n",
              "       'Q8-About How events are you aware about ?'],\n",
              "      dtype='object')"
            ]
          },
          "metadata": {
            "tags": []
          },
          "execution_count": 282
        }
      ]
    },
    {
      "cell_type": "code",
      "metadata": {
        "colab": {
          "base_uri": "https://localhost:8080/",
          "height": 465
        },
        "id": "EmUo6704EYbR",
        "outputId": "b860f76a-f231-48ca-a842-d5af754d4ac9"
      },
      "source": [
        "prepareddata=newdata.drop(['Career', 'Citizenship', 'Nationality', 'Year of Study','Primary Programme', 'Gender', 'Department', 'Housing Type'],axis=1)\n",
        "prepareddata"
      ],
      "execution_count": 283,
      "outputs": [
        {
          "output_type": "execute_result",
          "data": {
            "text/html": [
              "<div>\n",
              "<style scoped>\n",
              "    .dataframe tbody tr th:only-of-type {\n",
              "        vertical-align: middle;\n",
              "    }\n",
              "\n",
              "    .dataframe tbody tr th {\n",
              "        vertical-align: top;\n",
              "    }\n",
              "\n",
              "    .dataframe thead th {\n",
              "        text-align: right;\n",
              "    }\n",
              "</style>\n",
              "<table border=\"1\" class=\"dataframe\">\n",
              "  <thead>\n",
              "    <tr style=\"text-align: right;\">\n",
              "      <th></th>\n",
              "      <th>Q1-How many events have you Volunteered in ?</th>\n",
              "      <th>Q2-How many events have you Participated in ?</th>\n",
              "      <th>Q3-How many activities are you Interested in ?</th>\n",
              "      <th>Q4-How many activities are you Passionate about ?</th>\n",
              "      <th>Q5-What are your levels of stress ?</th>\n",
              "      <th>Q6-How Satisfied You are with your Student Life ?</th>\n",
              "      <th>Q7-How much effort do you make to interact with others ?</th>\n",
              "      <th>Q8-About How events are you aware about ?</th>\n",
              "    </tr>\n",
              "  </thead>\n",
              "  <tbody>\n",
              "    <tr>\n",
              "      <th>0</th>\n",
              "      <td>0</td>\n",
              "      <td>1</td>\n",
              "      <td>3</td>\n",
              "      <td>1</td>\n",
              "      <td>1</td>\n",
              "      <td>2</td>\n",
              "      <td>2</td>\n",
              "      <td>2</td>\n",
              "    </tr>\n",
              "    <tr>\n",
              "      <th>1</th>\n",
              "      <td>0</td>\n",
              "      <td>1</td>\n",
              "      <td>2</td>\n",
              "      <td>3</td>\n",
              "      <td>1</td>\n",
              "      <td>2</td>\n",
              "      <td>2</td>\n",
              "      <td>3</td>\n",
              "    </tr>\n",
              "    <tr>\n",
              "      <th>2</th>\n",
              "      <td>3</td>\n",
              "      <td>1</td>\n",
              "      <td>1</td>\n",
              "      <td>5</td>\n",
              "      <td>2</td>\n",
              "      <td>2</td>\n",
              "      <td>2</td>\n",
              "      <td>2</td>\n",
              "    </tr>\n",
              "    <tr>\n",
              "      <th>3</th>\n",
              "      <td>3</td>\n",
              "      <td>4</td>\n",
              "      <td>3</td>\n",
              "      <td>3</td>\n",
              "      <td>7</td>\n",
              "      <td>1</td>\n",
              "      <td>1</td>\n",
              "      <td>1</td>\n",
              "    </tr>\n",
              "    <tr>\n",
              "      <th>4</th>\n",
              "      <td>4</td>\n",
              "      <td>3</td>\n",
              "      <td>4</td>\n",
              "      <td>5</td>\n",
              "      <td>4</td>\n",
              "      <td>2</td>\n",
              "      <td>2</td>\n",
              "      <td>2</td>\n",
              "    </tr>\n",
              "    <tr>\n",
              "      <th>...</th>\n",
              "      <td>...</td>\n",
              "      <td>...</td>\n",
              "      <td>...</td>\n",
              "      <td>...</td>\n",
              "      <td>...</td>\n",
              "      <td>...</td>\n",
              "      <td>...</td>\n",
              "      <td>...</td>\n",
              "    </tr>\n",
              "    <tr>\n",
              "      <th>2953</th>\n",
              "      <td>0</td>\n",
              "      <td>1</td>\n",
              "      <td>5</td>\n",
              "      <td>8</td>\n",
              "      <td>3</td>\n",
              "      <td>2</td>\n",
              "      <td>2</td>\n",
              "      <td>2</td>\n",
              "    </tr>\n",
              "    <tr>\n",
              "      <th>2954</th>\n",
              "      <td>1</td>\n",
              "      <td>1</td>\n",
              "      <td>5</td>\n",
              "      <td>2</td>\n",
              "      <td>1</td>\n",
              "      <td>2</td>\n",
              "      <td>2</td>\n",
              "      <td>2</td>\n",
              "    </tr>\n",
              "    <tr>\n",
              "      <th>2955</th>\n",
              "      <td>0</td>\n",
              "      <td>1</td>\n",
              "      <td>1</td>\n",
              "      <td>2</td>\n",
              "      <td>1</td>\n",
              "      <td>3</td>\n",
              "      <td>2</td>\n",
              "      <td>2</td>\n",
              "    </tr>\n",
              "    <tr>\n",
              "      <th>2956</th>\n",
              "      <td>3</td>\n",
              "      <td>2</td>\n",
              "      <td>6</td>\n",
              "      <td>2</td>\n",
              "      <td>3</td>\n",
              "      <td>3</td>\n",
              "      <td>2</td>\n",
              "      <td>2</td>\n",
              "    </tr>\n",
              "    <tr>\n",
              "      <th>2957</th>\n",
              "      <td>2</td>\n",
              "      <td>2</td>\n",
              "      <td>4</td>\n",
              "      <td>2</td>\n",
              "      <td>3</td>\n",
              "      <td>2</td>\n",
              "      <td>2</td>\n",
              "      <td>2</td>\n",
              "    </tr>\n",
              "  </tbody>\n",
              "</table>\n",
              "<p>2958 rows × 8 columns</p>\n",
              "</div>"
            ],
            "text/plain": [
              "      Q1-How many events have you Volunteered in ?  ...  Q8-About How events are you aware about ?\n",
              "0                                                0  ...                                          2\n",
              "1                                                0  ...                                          3\n",
              "2                                                3  ...                                          2\n",
              "3                                                3  ...                                          1\n",
              "4                                                4  ...                                          2\n",
              "...                                            ...  ...                                        ...\n",
              "2953                                             0  ...                                          2\n",
              "2954                                             1  ...                                          2\n",
              "2955                                             0  ...                                          2\n",
              "2956                                             3  ...                                          2\n",
              "2957                                             2  ...                                          2\n",
              "\n",
              "[2958 rows x 8 columns]"
            ]
          },
          "metadata": {
            "tags": []
          },
          "execution_count": 283
        }
      ]
    },
    {
      "cell_type": "code",
      "metadata": {
        "colab": {
          "base_uri": "https://localhost:8080/"
        },
        "id": "IYMU0YCTFSQC",
        "outputId": "f0db8591-5a35-4bca-fdfb-bf1e7b1a8b20"
      },
      "source": [
        "#converting data into int datatype to avoid errors below.\n",
        "prepareddata=prepareddata.astype(int)\n",
        "prepareddata.info()"
      ],
      "execution_count": 284,
      "outputs": [
        {
          "output_type": "stream",
          "text": [
            "<class 'pandas.core.frame.DataFrame'>\n",
            "RangeIndex: 2958 entries, 0 to 2957\n",
            "Data columns (total 8 columns):\n",
            " #   Column                                                    Non-Null Count  Dtype\n",
            "---  ------                                                    --------------  -----\n",
            " 0   Q1-How many events have you Volunteered in ?              2958 non-null   int64\n",
            " 1   Q2-How many events have you Participated in ?             2958 non-null   int64\n",
            " 2   Q3-How many activities are you Interested in ?            2958 non-null   int64\n",
            " 3   Q4-How many activities are you Passionate about ?         2958 non-null   int64\n",
            " 4   Q5-What are your levels of stress ?                       2958 non-null   int64\n",
            " 5   Q6-How Satisfied You are with your Student Life ?         2958 non-null   int64\n",
            " 6   Q7-How much effort do you make to interact with others ?  2958 non-null   int64\n",
            " 7   Q8-About How events are you aware about ?                 2958 non-null   int64\n",
            "dtypes: int64(8)\n",
            "memory usage: 185.0 KB\n"
          ],
          "name": "stdout"
        }
      ]
    },
    {
      "cell_type": "code",
      "metadata": {
        "colab": {
          "base_uri": "https://localhost:8080/"
        },
        "id": "NHCIrg6AFpEV",
        "outputId": "4ec15328-e0a6-47a6-b7eb-66d54f6979d5"
      },
      "source": [
        "prepareddata.columns"
      ],
      "execution_count": 285,
      "outputs": [
        {
          "output_type": "execute_result",
          "data": {
            "text/plain": [
              "Index(['Q1-How many events have you Volunteered in ?',\n",
              "       'Q2-How many events have you Participated in ?',\n",
              "       'Q3-How many activities are you Interested in ?',\n",
              "       'Q4-How many activities are you Passionate about ?',\n",
              "       'Q5-What are your levels of stress ?',\n",
              "       'Q6-How Satisfied You are with your Student Life ?',\n",
              "       'Q7-How much effort do you make to interact with others ?',\n",
              "       'Q8-About How events are you aware about ?'],\n",
              "      dtype='object')"
            ]
          },
          "metadata": {
            "tags": []
          },
          "execution_count": 285
        }
      ]
    },
    {
      "cell_type": "code",
      "metadata": {
        "id": "nzR8z6_pER1L"
      },
      "source": [
        "# Import train_test_split from sklearn.model_selection\n",
        "from sklearn.model_selection import train_test_split\n",
        "# Here, X is the data which will have features and y will have our target i.e. stress.\n",
        "x=prepareddata[['Q1-How many events have you Volunteered in ?',\n",
        "       'Q2-How many events have you Participated in ?',\n",
        "       'Q3-How many activities are you Interested in ?',\n",
        "       'Q4-How many activities are you Passionate about ?','Q6-How Satisfied You are with your Student Life ?',\n",
        "       'Q7-How much effort do you make to interact with others ?',\n",
        "       'Q8-About How events are you aware about ?']]  \n",
        "y=prepareddata['Q5-What are your levels of stress ?']"
      ],
      "execution_count": 286,
      "outputs": []
    },
    {
      "cell_type": "code",
      "metadata": {
        "id": "AE7nqYWUF-4A"
      },
      "source": [
        "# Split data into training data and testing data\n",
        "x_train, x_test, y_train, y_test = train_test_split(x, y, test_size=0.2,random_state=500) \n",
        "#Ratio used for splitting training and testing data is 8:2 respectively."
      ],
      "execution_count": 287,
      "outputs": []
    },
    {
      "cell_type": "code",
      "metadata": {
        "colab": {
          "base_uri": "https://localhost:8080/"
        },
        "id": "QHrOptQYGFqr",
        "outputId": "6c76a044-2640-4828-f91b-806499d6c497"
      },
      "source": [
        "#to view length of training data.\n",
        "len(x_train)"
      ],
      "execution_count": 288,
      "outputs": [
        {
          "output_type": "execute_result",
          "data": {
            "text/plain": [
              "2366"
            ]
          },
          "metadata": {
            "tags": []
          },
          "execution_count": 288
        }
      ]
    },
    {
      "cell_type": "code",
      "metadata": {
        "colab": {
          "base_uri": "https://localhost:8080/"
        },
        "id": "uc3f4mH4GJ9G",
        "outputId": "00e53605-10c3-45a7-a977-ab7c1f47b802"
      },
      "source": [
        "#to view length of testing data.\n",
        "len(x_test)"
      ],
      "execution_count": 289,
      "outputs": [
        {
          "output_type": "execute_result",
          "data": {
            "text/plain": [
              "592"
            ]
          },
          "metadata": {
            "tags": []
          },
          "execution_count": 289
        }
      ]
    },
    {
      "cell_type": "markdown",
      "metadata": {
        "id": "c_LgE3hXEI9-"
      },
      "source": [
        "## Model Creation"
      ]
    },
    {
      "cell_type": "markdown",
      "metadata": {
        "id": "9RK8c39tGm1-"
      },
      "source": [
        "Decision Tree Regressor"
      ]
    },
    {
      "cell_type": "code",
      "metadata": {
        "id": "d75glJvfGkGc"
      },
      "source": [
        "# Importing decision tree regressor \n",
        "from sklearn.tree import DecisionTreeRegressor \n",
        "reg1 = DecisionTreeRegressor()"
      ],
      "execution_count": 290,
      "outputs": []
    },
    {
      "cell_type": "code",
      "metadata": {
        "colab": {
          "base_uri": "https://localhost:8080/"
        },
        "id": "6Er5oHrXHLNY",
        "outputId": "c7c5b811-591b-48d0-ce91-5280c8c46d92"
      },
      "source": [
        "#Fitting data into the model.\n",
        "reg1.fit(x_train, y_train)"
      ],
      "execution_count": 291,
      "outputs": [
        {
          "output_type": "execute_result",
          "data": {
            "text/plain": [
              "DecisionTreeRegressor(ccp_alpha=0.0, criterion='mse', max_depth=None,\n",
              "                      max_features=None, max_leaf_nodes=None,\n",
              "                      min_impurity_decrease=0.0, min_impurity_split=None,\n",
              "                      min_samples_leaf=1, min_samples_split=2,\n",
              "                      min_weight_fraction_leaf=0.0, presort='deprecated',\n",
              "                      random_state=None, splitter='best')"
            ]
          },
          "metadata": {
            "tags": []
          },
          "execution_count": 291
        }
      ]
    },
    {
      "cell_type": "code",
      "metadata": {
        "id": "TYNOZyK1HPZp"
      },
      "source": [
        "# Making predictions on Test data \n",
        "pred1 = reg1.predict(x_test)"
      ],
      "execution_count": 292,
      "outputs": []
    },
    {
      "cell_type": "code",
      "metadata": {
        "colab": {
          "base_uri": "https://localhost:8080/"
        },
        "id": "Myc0IUxcHZrt",
        "outputId": "283e3d5a-5404-4cbb-8e23-4ffb6dffc6fa"
      },
      "source": [
        "pred1"
      ],
      "execution_count": 293,
      "outputs": [
        {
          "output_type": "execute_result",
          "data": {
            "text/plain": [
              "array([3.25      , 3.5       , 4.        , 2.5       , 2.        ,\n",
              "       2.5       , 5.        , 4.6       , 3.33333333, 2.        ,\n",
              "       2.        , 1.33333333, 1.66666667, 2.625     , 2.        ,\n",
              "       2.        , 2.        , 5.        , 3.        , 3.        ,\n",
              "       2.5       , 4.        , 4.        , 1.        , 4.        ,\n",
              "       2.        , 6.        , 3.25      , 4.        , 3.        ,\n",
              "       3.        , 1.        , 3.        , 2.4       , 2.625     ,\n",
              "       4.        , 3.66666667, 3.        , 3.        , 3.        ,\n",
              "       1.        , 2.5       , 1.        , 2.        , 2.        ,\n",
              "       1.        , 2.        , 4.        , 3.        , 3.14285714,\n",
              "       3.        , 5.        , 1.        , 4.33333333, 2.        ,\n",
              "       3.5       , 4.        , 1.        , 2.53846154, 3.5       ,\n",
              "       2.        , 4.        , 5.        , 4.66666667, 3.        ,\n",
              "       1.66666667, 3.        , 3.66666667, 2.        , 4.        ,\n",
              "       4.        , 4.5       , 2.        , 2.75      , 1.83333333,\n",
              "       2.        , 5.        , 6.        , 2.5       , 2.5       ,\n",
              "       3.66666667, 3.        , 3.        , 4.        , 2.        ,\n",
              "       3.        , 4.        , 2.        , 3.        , 1.83333333,\n",
              "       2.16666667, 1.75      , 4.5       , 3.        , 1.5       ,\n",
              "       2.        , 3.        , 2.        , 3.        , 2.        ,\n",
              "       2.75      , 2.11111111, 5.        , 5.        , 3.375     ,\n",
              "       2.        , 2.        , 1.        , 3.        , 3.5       ,\n",
              "       3.        , 3.33333333, 9.        , 1.95454545, 3.        ,\n",
              "       5.        , 3.375     , 3.        , 1.66666667, 4.        ,\n",
              "       3.        , 2.        , 3.        , 4.        , 3.54545455,\n",
              "       3.        , 3.        , 1.66666667, 6.        , 3.        ,\n",
              "       2.11111111, 1.        , 4.        , 4.        , 3.11111111,\n",
              "       2.        , 6.        , 3.18181818, 6.        , 2.11111111,\n",
              "       4.        , 3.5       , 2.        , 4.        , 1.        ,\n",
              "       2.        , 4.        , 2.        , 6.        , 3.5       ,\n",
              "       3.66666667, 4.        , 3.        , 4.        , 1.        ,\n",
              "       7.        , 3.        , 5.        , 3.        , 1.        ,\n",
              "       4.        , 2.69230769, 2.        , 4.        , 3.5       ,\n",
              "       4.        , 5.        , 2.2       , 3.        , 2.        ,\n",
              "       2.375     , 6.        , 1.        , 3.54545455, 3.        ,\n",
              "       2.5       , 2.08333333, 1.        , 7.        , 1.        ,\n",
              "       1.        , 7.        , 9.        , 5.        , 3.        ,\n",
              "       3.        , 2.        , 2.09090909, 2.        , 4.        ,\n",
              "       3.        , 6.        , 2.        , 3.33333333, 2.5       ,\n",
              "       3.        , 3.        , 2.625     , 9.        , 7.        ,\n",
              "       2.69230769, 3.        , 2.5       , 5.        , 8.        ,\n",
              "       2.        , 2.16666667, 2.33333333, 3.18181818, 1.6       ,\n",
              "       4.8       , 2.28571429, 3.        , 3.        , 2.5       ,\n",
              "       1.        , 2.        , 2.        , 3.        , 3.        ,\n",
              "       2.5       , 4.        , 3.375     , 3.        , 1.        ,\n",
              "       4.        , 3.        , 4.        , 3.        , 4.5       ,\n",
              "       5.        , 3.        , 3.5       , 2.625     , 3.        ,\n",
              "       1.33333333, 1.        , 2.        , 5.        , 4.        ,\n",
              "       4.        , 4.        , 6.        , 2.28571429, 1.        ,\n",
              "       2.5       , 6.        , 1.        , 1.        , 2.        ,\n",
              "       1.        , 2.        , 2.28571429, 1.        , 3.        ,\n",
              "       3.        , 1.        , 1.        , 3.        , 1.        ,\n",
              "       2.        , 1.        , 2.        , 6.        , 5.        ,\n",
              "       2.        , 2.625     , 6.        , 3.        , 2.        ,\n",
              "       5.        , 3.        , 4.        , 3.125     , 2.        ,\n",
              "       5.        , 2.        , 3.33333333, 2.75      , 2.5       ,\n",
              "       3.66666667, 2.        , 3.375     , 3.        , 2.        ,\n",
              "       6.        , 4.        , 5.        , 1.        , 2.        ,\n",
              "       7.        , 5.        , 2.5       , 5.        , 4.        ,\n",
              "       3.25      , 2.625     , 2.        , 2.33333333, 2.        ,\n",
              "       2.        , 1.        , 0.        , 4.6       , 1.        ,\n",
              "       6.        , 3.33333333, 4.        , 6.        , 2.66666667,\n",
              "       2.        , 3.54545455, 1.6       , 5.        , 2.        ,\n",
              "       6.        , 2.375     , 2.        , 5.        , 2.28571429,\n",
              "       1.        , 3.        , 3.5       , 2.        , 1.        ,\n",
              "       3.5       , 2.16666667, 2.5       , 3.        , 2.        ,\n",
              "       3.66666667, 2.        , 6.        , 3.        , 2.        ,\n",
              "       2.        , 6.        , 4.        , 5.        , 2.        ,\n",
              "       2.        , 6.        , 1.        , 3.        , 3.        ,\n",
              "       5.        , 2.        , 2.11111111, 2.        , 3.        ,\n",
              "       3.        , 1.        , 3.        , 3.        , 2.5       ,\n",
              "       2.53846154, 8.        , 3.        , 1.57142857, 6.        ,\n",
              "       2.        , 1.95454545, 2.5       , 1.2       , 3.33333333,\n",
              "       5.        , 2.        , 3.125     , 9.        , 2.        ,\n",
              "       2.        , 2.08333333, 5.        , 2.        , 3.        ,\n",
              "       2.5       , 2.        , 5.        , 3.        , 3.5       ,\n",
              "       2.        , 2.        , 5.        , 3.33333333, 2.        ,\n",
              "       3.        , 3.        , 3.        , 2.33333333, 2.28571429,\n",
              "       3.        , 4.        , 3.        , 2.        , 1.        ,\n",
              "       3.        , 2.        , 4.        , 4.66666667, 3.        ,\n",
              "       3.11111111, 2.        , 2.        , 3.        , 2.        ,\n",
              "       3.        , 2.        , 1.        , 3.5       , 1.76923077,\n",
              "       5.        , 2.66666667, 3.        , 4.        , 2.        ,\n",
              "       2.        , 1.        , 1.95454545, 2.5       , 2.375     ,\n",
              "       1.        , 3.        , 2.        , 2.16666667, 2.        ,\n",
              "       5.        , 3.        , 3.        , 4.        , 3.        ,\n",
              "       2.        , 3.        , 2.5       , 2.625     , 4.5       ,\n",
              "       2.        , 4.        , 3.        , 2.        , 3.        ,\n",
              "       2.5       , 3.        , 3.        , 3.5       , 4.        ,\n",
              "       3.76923077, 2.69230769, 1.66666667, 2.        , 3.        ,\n",
              "       3.        , 1.        , 2.        , 1.6       , 1.        ,\n",
              "       2.        , 1.95454545, 4.        , 3.        , 1.6       ,\n",
              "       2.        , 4.        , 3.125     , 3.        , 1.        ,\n",
              "       5.        , 5.        , 6.        , 1.        , 5.        ,\n",
              "       2.5       , 2.        , 3.        , 1.33333333, 2.        ,\n",
              "       3.        , 2.8       , 0.        , 2.4       , 6.        ,\n",
              "       6.        , 2.11111111, 2.        , 2.        , 4.        ,\n",
              "       3.        , 2.        , 6.        , 9.        , 2.5       ,\n",
              "       3.        , 2.33333333, 5.        , 3.        , 4.        ,\n",
              "       2.5       , 6.        , 2.        , 2.        , 2.        ,\n",
              "       2.4       , 3.        , 3.        , 2.28571429, 3.5       ,\n",
              "       1.95454545, 6.        , 2.        , 3.        , 4.33333333,\n",
              "       4.        , 2.        , 2.        , 4.        , 3.        ,\n",
              "       3.        , 2.5       , 3.25      , 2.33333333, 3.        ,\n",
              "       5.        , 9.        , 2.        , 2.6       , 1.        ,\n",
              "       2.33333333, 1.        , 3.        , 2.        , 5.        ,\n",
              "       2.        , 4.        , 3.5       , 1.95454545, 0.        ,\n",
              "       4.        , 2.        , 6.        , 2.5       , 3.        ,\n",
              "       3.        , 1.        , 2.        , 6.        , 1.5       ,\n",
              "       5.        , 3.25      , 5.        , 3.33333333, 3.        ,\n",
              "       4.5       , 3.        , 6.        , 2.33333333, 2.        ,\n",
              "       2.        , 2.08333333, 2.5       , 2.66666667, 2.        ,\n",
              "       1.        , 2.        , 6.        , 2.5       , 1.66666667,\n",
              "       3.33333333, 5.        , 2.        , 1.        , 4.        ,\n",
              "       2.        , 2.        , 2.        , 2.        , 5.        ,\n",
              "       3.        , 1.        , 2.08333333, 3.        , 1.        ,\n",
              "       5.        , 3.33333333, 4.        , 2.        , 6.        ,\n",
              "       1.        , 4.66666667, 7.        , 1.5       , 3.5       ,\n",
              "       2.        , 1.        ])"
            ]
          },
          "metadata": {
            "tags": []
          },
          "execution_count": 293
        }
      ]
    },
    {
      "cell_type": "code",
      "metadata": {
        "colab": {
          "base_uri": "https://localhost:8080/"
        },
        "id": "j4SRIO4WHfny",
        "outputId": "426e2e35-ddcd-4a66-b733-0d356e115912"
      },
      "source": [
        "print(\"Accuracy of the Decision Tree Regressor  model comes to be: \\n \") \n",
        "print(reg1.score(x_train,y_train))"
      ],
      "execution_count": 294,
      "outputs": [
        {
          "output_type": "stream",
          "text": [
            "Accuracy of the Decision Tree Regressor  model comes to be: \n",
            " \n",
            "0.7248791634252187\n"
          ],
          "name": "stdout"
        }
      ]
    },
    {
      "cell_type": "markdown",
      "metadata": {
        "id": "rf8j0d5DHiOa"
      },
      "source": [
        "Random Forest Regressor"
      ]
    },
    {
      "cell_type": "code",
      "metadata": {
        "id": "SZJSWpWwHlJH"
      },
      "source": [
        "#Importing random forest regressor \n",
        "from sklearn.ensemble import RandomForestRegressor \n",
        "reg2 = RandomForestRegressor(n_estimators=100)"
      ],
      "execution_count": 295,
      "outputs": []
    },
    {
      "cell_type": "code",
      "metadata": {
        "colab": {
          "base_uri": "https://localhost:8080/"
        },
        "id": "uXyBjnnYHpCX",
        "outputId": "c6fbe29d-6ff4-4f23-a667-032aa63d2041"
      },
      "source": [
        "# Fitting data into the model.\n",
        "reg2.fit(x_train, y_train)"
      ],
      "execution_count": 296,
      "outputs": [
        {
          "output_type": "execute_result",
          "data": {
            "text/plain": [
              "RandomForestRegressor(bootstrap=True, ccp_alpha=0.0, criterion='mse',\n",
              "                      max_depth=None, max_features='auto', max_leaf_nodes=None,\n",
              "                      max_samples=None, min_impurity_decrease=0.0,\n",
              "                      min_impurity_split=None, min_samples_leaf=1,\n",
              "                      min_samples_split=2, min_weight_fraction_leaf=0.0,\n",
              "                      n_estimators=100, n_jobs=None, oob_score=False,\n",
              "                      random_state=None, verbose=0, warm_start=False)"
            ]
          },
          "metadata": {
            "tags": []
          },
          "execution_count": 296
        }
      ]
    },
    {
      "cell_type": "code",
      "metadata": {
        "id": "hKFC4rhZHwCM"
      },
      "source": [
        "#making predictions.\n",
        "pred2 = reg2.predict(x_test)"
      ],
      "execution_count": 297,
      "outputs": []
    },
    {
      "cell_type": "code",
      "metadata": {
        "colab": {
          "base_uri": "https://localhost:8080/"
        },
        "id": "mOxWoRrTHzJ4",
        "outputId": "5c043ea0-342f-4dd0-b390-a0b766fde49d"
      },
      "source": [
        "pred2"
      ],
      "execution_count": 298,
      "outputs": [
        {
          "output_type": "execute_result",
          "data": {
            "text/plain": [
              "array([3.24970868, 3.23557143, 3.97733333, 2.45307143, 2.03598453,\n",
              "       2.49285326, 5.53      , 4.44140476, 3.30159524, 3.90490476,\n",
              "       3.8005    , 1.94902778, 1.70054762, 2.67296764, 1.77916667,\n",
              "       3.55842857, 2.50633333, 5.07841667, 2.97742857, 3.11666667,\n",
              "       2.54391053, 4.36      , 3.31821373, 1.85516667, 3.49466667,\n",
              "       2.02198413, 5.05955556, 3.24970868, 3.55360761, 3.03486684,\n",
              "       5.70790476, 1.57888095, 2.92      , 2.39952958, 2.62643115,\n",
              "       3.55360761, 3.43703258, 3.03486684, 3.26216667, 3.30391667,\n",
              "       2.2025    , 2.38888095, 1.96835714, 2.66      , 3.074     ,\n",
              "       1.85516667, 2.02659524, 4.04      , 3.1425    , 3.01108855,\n",
              "       3.4       , 3.64609524, 2.04416667, 4.34607959, 2.077     ,\n",
              "       3.55278571, 3.53      , 3.27333333, 2.56442962, 3.31636905,\n",
              "       3.955     , 3.15183333, 4.74255952, 4.67757143, 2.46833333,\n",
              "       1.68306417, 2.89185714, 3.66302381, 4.00672222, 3.99114286,\n",
              "       3.17381061, 3.52583333, 2.31347344, 2.77123268, 1.88424545,\n",
              "       1.92916667, 4.71      , 4.365     , 2.49683333, 2.68325   ,\n",
              "       3.75586994, 2.9       , 4.33      , 3.77266667, 2.48338095,\n",
              "       3.44333333, 3.91327381, 2.24114286, 3.12416667, 1.88424545,\n",
              "       2.22674093, 1.83104762, 3.71475   , 3.03486684, 1.86862302,\n",
              "       2.28036301, 3.03486684, 2.58757143, 2.77929257, 3.67526587,\n",
              "       2.69165476, 2.04026066, 4.86      , 3.71666667, 3.39130589,\n",
              "       2.675     , 2.81      , 3.09980343, 3.92210426, 3.55278571,\n",
              "       5.41      , 3.09846032, 6.35      , 1.95747403, 3.7495    ,\n",
              "       3.32666667, 3.39130589, 2.52654762, 1.68306417, 3.09358333,\n",
              "       3.374     , 3.67526587, 3.09564286, 3.38742857, 3.49607211,\n",
              "       3.23      , 2.28894872, 2.82716667, 4.26233333, 2.596     ,\n",
              "       2.04026066, 1.0525    , 2.75462103, 3.18991667, 2.50891012,\n",
              "       2.65833333, 3.32      , 3.17321266, 5.21166667, 2.04026066,\n",
              "       3.91142857, 3.55278571, 2.03598453, 2.77666667, 2.63366667,\n",
              "       4.313     , 2.85266667, 3.47178571, 4.61106349, 2.96638095,\n",
              "       3.75586994, 2.7535    , 3.15666667, 3.02      , 2.08333333,\n",
              "       5.88666667, 4.17766667, 3.57705556, 3.03427273, 1.86534921,\n",
              "       3.952     , 2.72532789, 2.43166667, 3.67166667, 3.73341667,\n",
              "       3.88516667, 4.88163095, 2.22065873, 3.03486684, 3.624     ,\n",
              "       2.37259757, 3.52983333, 3.353     , 3.49607211, 2.97311644,\n",
              "       2.45307143, 2.09321516, 3.15564286, 3.8215    , 2.32133333,\n",
              "       3.145     , 4.355     , 5.39914286, 3.37416667, 2.756     ,\n",
              "       3.76242857, 1.9081342 , 2.0459932 , 2.65      , 3.713     ,\n",
              "       2.872     , 4.935     , 2.27730159, 3.34213095, 2.55727381,\n",
              "       3.36416667, 3.81588889, 2.62643115, 5.18      , 3.47      ,\n",
              "       2.72532789, 4.01333333, 2.54960134, 3.625     , 3.88061905,\n",
              "       3.37261905, 2.22674093, 2.26261905, 3.17321266, 2.21751335,\n",
              "       4.77653275, 2.28479276, 3.11377534, 4.33666667, 2.4615827 ,\n",
              "       2.455     , 2.93733333, 2.88269408, 3.03486684, 3.06105808,\n",
              "       2.58054762, 3.78      , 3.34416789, 2.55574026, 1.65416667,\n",
              "       3.7035    , 2.6974881 , 4.12      , 2.75083333, 3.71475   ,\n",
              "       3.87666667, 3.19125   , 3.4335    , 2.62643115, 2.97311644,\n",
              "       1.92963889, 1.5677071 , 2.15317227, 4.29333333, 4.1665    ,\n",
              "       4.27      , 3.245     , 4.88816667, 2.28479276, 1.00857143,\n",
              "       2.45307143, 4.86907143, 3.1675    , 1.29539652, 2.31347344,\n",
              "       2.3675    , 5.00075   , 2.35548887, 1.78433333, 3.03486684,\n",
              "       3.68666667, 2.925     , 1.76166667, 3.03486684, 1.735     ,\n",
              "       2.58484416, 1.0525    , 2.01552352, 4.67319444, 4.10155952,\n",
              "       2.33083333, 2.67296764, 5.03416667, 3.41416667, 2.53280556,\n",
              "       4.18      , 2.51409524, 3.95128571, 3.22081267, 2.00645161,\n",
              "       3.91778788, 3.0422619 , 3.29810714, 2.75038095, 2.69525153,\n",
              "       3.97538095, 3.79334921, 3.34416789, 3.50333333, 2.02659524,\n",
              "       3.57685714, 3.44767333, 4.18388095, 3.22272222, 2.17635498,\n",
              "       5.70085714, 4.4735    , 2.54960134, 4.3       , 3.99166667,\n",
              "       3.2035    , 2.62643115, 2.06666667, 2.26261905, 2.81833333,\n",
              "       2.56527778, 1.5675    , 1.7968254 , 4.44140476, 1.71141667,\n",
              "       4.84083333, 3.59695238, 3.415     , 4.39      , 4.04219841,\n",
              "       2.63930159, 3.49607211, 1.58616595, 4.90433333, 3.0422619 ,\n",
              "       5.13      , 2.37259757, 3.36779365, 2.88541667, 2.28479276,\n",
              "       1.8455    , 3.3477619 , 3.55278571, 2.53280556, 1.15666667,\n",
              "       4.04173016, 2.22674093, 2.57350794, 3.31      , 3.8875    ,\n",
              "       3.56115873, 2.34544444, 4.87485931, 1.82441667, 4.03166667,\n",
              "       3.45649206, 5.14      , 2.198     , 2.90505952, 2.857     ,\n",
              "       2.62833333, 3.71666667, 3.13619048, 3.41      , 3.85      ,\n",
              "       4.56270238, 2.51323485, 2.04026066, 2.83586111, 1.85078171,\n",
              "       3.91114286, 1.70583333, 4.36      , 2.95      , 2.20607143,\n",
              "       2.56442962, 3.783     , 1.85078171, 1.61209343, 4.34083333,\n",
              "       1.95333333, 1.95747403, 2.55727381, 1.20869841, 3.30159524,\n",
              "       3.10666667, 2.0805    , 3.22081267, 4.80816667, 2.00645161,\n",
              "       2.58666667, 2.09321516, 3.80421429, 3.38158333, 2.97742857,\n",
              "       2.48265152, 2.153     , 3.70416667, 2.976     , 2.88695238,\n",
              "       2.43519048, 2.03598453, 3.996     , 3.03496032, 2.21186905,\n",
              "       3.06166667, 2.97311644, 3.07088889, 2.88946825, 2.28479276,\n",
              "       1.85078171, 3.741     , 3.32283333, 2.04589744, 1.34793228,\n",
              "       3.34364286, 2.35      , 3.91616667, 4.75603066, 2.82361111,\n",
              "       2.50891012, 2.38816667, 1.89858333, 2.7227381 , 2.06861372,\n",
              "       3.51517566, 1.91833333, 2.48280952, 3.79971429, 1.6844713 ,\n",
              "       3.23333333, 2.66446825, 3.06105808, 4.05033333, 3.11333333,\n",
              "       2.08990476, 1.00857143, 1.95747403, 3.98040476, 2.37259757,\n",
              "       3.93      , 3.35983333, 3.01166667, 2.22674093, 2.01552352,\n",
              "       3.58983333, 2.97311644, 3.03486684, 4.26090476, 3.0231872 ,\n",
              "       2.43291667, 3.09      , 2.61019048, 2.62643115, 4.1495    ,\n",
              "       2.60095238, 4.0925    , 1.85078171, 3.62333333, 2.001     ,\n",
              "       2.4615827 , 3.1425    , 3.545     , 2.96638095, 3.91616667,\n",
              "       3.83857854, 2.72532789, 1.68306417, 2.02795455, 2.32542396,\n",
              "       3.26849817, 3.12619048, 2.03598453, 2.21751335, 1.        ,\n",
              "       4.1015083 , 1.95747403, 4.12169048, 2.97438889, 1.58616595,\n",
              "       3.111     , 3.92916667, 3.22081267, 4.74640115, 2.002     ,\n",
              "       4.386     , 4.28      , 4.96960048, 1.63528571, 3.01933333,\n",
              "       2.68325   , 2.61366667, 3.1625    , 1.94902778, 2.01098564,\n",
              "       4.11323232, 2.74756746, 1.65071645, 2.36734127, 1.81816667,\n",
              "       4.15666667, 2.04026066, 3.99461905, 3.264     , 3.645     ,\n",
              "       3.03486684, 1.80450291, 3.78966667, 4.17      , 2.68325   ,\n",
              "       3.48      , 2.35405123, 2.70333333, 4.08      , 3.40116667,\n",
              "       2.51669913, 4.2875    , 2.02958333, 1.87435137, 2.2117619 ,\n",
              "       2.36734127, 2.86333333, 2.33166667, 2.28479276, 3.68758333,\n",
              "       1.95747403, 4.82984954, 2.56883333, 3.03486684, 4.24911508,\n",
              "       4.116     , 1.86260806, 4.08733333, 3.99104762, 2.001     ,\n",
              "       2.62066667, 2.45307143, 3.2035    , 2.35643136, 4.64666667,\n",
              "       3.87466667, 7.35      , 2.75502381, 2.60131602, 2.32307826,\n",
              "       2.35405123, 1.5525    , 3.14933333, 2.857     , 4.32994769,\n",
              "       2.31583333, 4.23092821, 2.477     , 1.95747403, 1.55054978,\n",
              "       3.82360606, 2.02659524, 3.42166667, 2.51669913, 2.97311644,\n",
              "       2.6996367 , 2.98664286, 2.14333333, 4.82984954, 1.75183333,\n",
              "       4.94      , 3.2035    , 5.2925    , 3.30159524, 3.26      ,\n",
              "       5.65616667, 2.76880044, 4.856     , 2.32495238, 2.04833333,\n",
              "       2.81466667, 2.09321516, 3.17467183, 2.62742857, 3.75383333,\n",
              "       1.57888095, 1.85362247, 4.06666667, 2.38471429, 1.68306417,\n",
              "       3.22402381, 2.30904762, 2.53280556, 3.49      , 3.34666667,\n",
              "       2.11233333, 1.77916667, 2.53280556, 2.15179762, 4.39928571,\n",
              "       2.76880044, 1.65022222, 2.09321516, 2.96533333, 1.68583333,\n",
              "       3.43883333, 3.30159524, 4.97      , 2.52933333, 2.565     ,\n",
              "       1.93375   , 4.5515    , 3.94333333, 3.6357619 , 3.31701587,\n",
              "       2.70116667, 2.70528571])"
            ]
          },
          "metadata": {
            "tags": []
          },
          "execution_count": 298
        }
      ]
    },
    {
      "cell_type": "code",
      "metadata": {
        "colab": {
          "base_uri": "https://localhost:8080/"
        },
        "id": "QFQGRfj-H0WV",
        "outputId": "075c65a5-16fd-4d9d-834b-f509ffe6f435"
      },
      "source": [
        "print(\"Accuracy of the Random Forest Regressor  model comes to be: \\n \") \n",
        "print(reg2.score(x_train,y_train))"
      ],
      "execution_count": 299,
      "outputs": [
        {
          "output_type": "stream",
          "text": [
            "Accuracy of the Random Forest Regressor  model comes to be: \n",
            " \n",
            "0.6476213171383199\n"
          ],
          "name": "stdout"
        }
      ]
    },
    {
      "cell_type": "markdown",
      "metadata": {
        "id": "HAdboImGH5Ae"
      },
      "source": [
        "## Performnace Evaluation"
      ]
    },
    {
      "cell_type": "code",
      "metadata": {
        "colab": {
          "base_uri": "https://localhost:8080/"
        },
        "id": "Bp8kPK4IH8V3",
        "outputId": "1f49f9cb-21bd-4d92-efa1-8050c10c3725"
      },
      "source": [
        "import numpy as np\n",
        "from sklearn.metrics import mean_squared_error\n",
        "print(\"Model\\t\\t\\t RootMeanSquareError \\t\\t Accuracy of the model\") \n",
        "print(\"\"\"Decision Tree Regressor\\t\\t {:.4f} \\t \\t\\t {:.4f}\"\"\".format(  np.sqrt(mean_squared_error(y_test, pred1)), reg1.score(x_train,y_train)))\n",
        "print(\"\"\"Random Forest Regressor\\t\\t {:.4f} \\t \\t\\t {:.4f}\"\"\".format(  np.sqrt(mean_squared_error(y_test, pred2)), reg2.score(x_train,y_train)))"
      ],
      "execution_count": 300,
      "outputs": [
        {
          "output_type": "stream",
          "text": [
            "Model\t\t\t RootMeanSquareError \t\t Accuracy of the model\n",
            "Decision Tree Regressor\t\t 2.1656 \t \t\t 0.7249\n",
            "Random Forest Regressor\t\t 1.8237 \t \t\t 0.6476\n"
          ],
          "name": "stdout"
        }
      ]
    },
    {
      "cell_type": "markdown",
      "metadata": {
        "id": "GCJYP8u9Jhda"
      },
      "source": [
        "## Conclusion:\n",
        "Decision tree regressor has more accuracy when compared to random forest regressor."
      ]
    }
  ]
}